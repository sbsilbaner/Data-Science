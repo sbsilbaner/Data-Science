{
 "cells": [
  {
   "cell_type": "code",
   "execution_count": 4,
   "id": "a2438ec6",
   "metadata": {},
   "outputs": [],
   "source": [
    "sampleDict={\n",
    "    \"Country\":{\n",
    "        \"Indian Cricket Team\":{\n",
    "            \"Name\":{\"Rohit\",\"Virat\",\"Rahul\",\"Shami\",\"Bumrah\"},\n",
    "            \"Runs\":{\n",
    "                \"Rohit\":47,\n",
    "                \"Virat\":54,\n",
    "                \"Rahul\":66\n",
    "            }\n",
    "        }\n",
    "    }\n",
    "}"
   ]
  },
  {
   "cell_type": "code",
   "execution_count": 7,
   "id": "6d666333",
   "metadata": {},
   "outputs": [
    {
     "name": "stdout",
     "output_type": "stream",
     "text": [
      "dict_values([{'Indian Cricket Team': {'Name': {'Rahul', 'Virat', 'Shami', 'Rohit', 'Bumrah'}, 'Runs': {'Rohit': 47, 'Virat': 54, 'Rahul': 66}}}])\n"
     ]
    }
   ],
   "source": [
    "x=sampleDict.values()\n",
    "print(x)"
   ]
  },
  {
   "cell_type": "code",
   "execution_count": 13,
   "id": "8c3d5fbc",
   "metadata": {},
   "outputs": [],
   "source": [
    "sample_dict={\"a\":100,\"b\":2800,\"c\":300 }"
   ]
  },
  {
   "cell_type": "code",
   "execution_count": 15,
   "id": "91e5178b",
   "metadata": {},
   "outputs": [
    {
     "name": "stdout",
     "output_type": "stream",
     "text": [
      "b is present\n"
     ]
    }
   ],
   "source": [
    "if \"b\" in sample_dict:\n",
    "    print(\"b is present\")"
   ]
  },
  {
   "cell_type": "code",
   "execution_count": 18,
   "id": "895b51f9",
   "metadata": {},
   "outputs": [
    {
     "name": "stdout",
     "output_type": "stream",
     "text": [
      "absent\n",
      "absent\n",
      "absent\n"
     ]
    }
   ],
   "source": [
    "y = sample_dict.values()\n",
    "for i in y:\n",
    "    if y==2700:\n",
    "        print(\"present\")\n",
    "    else:\n",
    "        print(\"absent\")    \n",
    "    "
   ]
  },
  {
   "cell_type": "code",
   "execution_count": 19,
   "id": "4c5bcbc3",
   "metadata": {},
   "outputs": [],
   "source": [
    "sample_set={\"Surya\",\"Kapil\",\"MSD\"}\n",
    "sample_list=[\"Sachin\",\"Siraj\",\"Sehwag\"]\n"
   ]
  },
  {
   "cell_type": "code",
   "execution_count": 20,
   "id": "5a58e9c4",
   "metadata": {},
   "outputs": [
    {
     "name": "stdout",
     "output_type": "stream",
     "text": [
      "{'MSD', 'Kapil', 'Siraj', 'Sehwag', 'Surya', 'Sachin'}\n"
     ]
    }
   ],
   "source": [
    "sample_set.update([\"Sachin\",\"Siraj\",\"Sehwag\"])\n",
    "print(sample_set)"
   ]
  },
  {
   "cell_type": "code",
   "execution_count": 21,
   "id": "1e56adc2",
   "metadata": {},
   "outputs": [],
   "source": [
    "set1={10,20,30,40,50}\n",
    "set2={30,40,50,60,70}"
   ]
  },
  {
   "cell_type": "code",
   "execution_count": 23,
   "id": "5071a7ec",
   "metadata": {},
   "outputs": [
    {
     "name": "stdout",
     "output_type": "stream",
     "text": [
      "{70, 40, 10, 50, 20, 60, 30}\n"
     ]
    }
   ],
   "source": [
    "set3=set1.union(set2)\n",
    "print(set3)"
   ]
  },
  {
   "cell_type": "code",
   "execution_count": 25,
   "id": "a155a364",
   "metadata": {},
   "outputs": [],
   "source": [
    "numbers=[1,2,3,4,5,6,7]"
   ]
  },
  {
   "cell_type": "code",
   "execution_count": 30,
   "id": "e078fd0e",
   "metadata": {},
   "outputs": [
    {
     "data": {
      "text/plain": [
       "[1, 4, 9, 16, 25, 36, 49]"
      ]
     },
     "execution_count": 30,
     "metadata": {},
     "output_type": "execute_result"
    }
   ],
   "source": [
    "list(map(lambda x:x**2,numbers))"
   ]
  },
  {
   "cell_type": "code",
   "execution_count": 31,
   "id": "901a9ccd",
   "metadata": {},
   "outputs": [],
   "source": [
    "list1=[10,20,[500,600,[5000,6000],500],30,40]"
   ]
  },
  {
   "cell_type": "code",
   "execution_count": 33,
   "id": "853732c8",
   "metadata": {},
   "outputs": [],
   "source": [
    "list1.insert(6,7000)"
   ]
  },
  {
   "cell_type": "code",
   "execution_count": 34,
   "id": "5cd35220",
   "metadata": {},
   "outputs": [
    {
     "name": "stdout",
     "output_type": "stream",
     "text": [
      "[10, 20, [500, 600, [5000, 6000], 500], 30, 40, 7000]\n"
     ]
    }
   ],
   "source": [
    "print(list1)"
   ]
  },
  {
   "cell_type": "code",
   "execution_count": null,
   "id": "1cbc68b6",
   "metadata": {},
   "outputs": [],
   "source": []
  }
 ],
 "metadata": {
  "kernelspec": {
   "display_name": "Python 3 (ipykernel)",
   "language": "python",
   "name": "python3"
  },
  "language_info": {
   "codemirror_mode": {
    "name": "ipython",
    "version": 3
   },
   "file_extension": ".py",
   "mimetype": "text/x-python",
   "name": "python",
   "nbconvert_exporter": "python",
   "pygments_lexer": "ipython3",
   "version": "3.11.7"
  }
 },
 "nbformat": 4,
 "nbformat_minor": 5
}
