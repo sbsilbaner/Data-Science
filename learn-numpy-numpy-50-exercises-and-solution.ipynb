{
 "cells": [
  {
   "cell_type": "markdown",
   "metadata": {
    "papermill": {
     "duration": 0.073289,
     "end_time": "2024-05-08T08:55:40.699230",
     "exception": false,
     "start_time": "2024-05-08T08:55:40.625941",
     "status": "completed"
    },
    "tags": []
   },
   "source": [
    "# NumPy Exercises"
   ]
  },
  {
   "cell_type": "markdown",
   "metadata": {
    "papermill": {
     "duration": 0.07016,
     "end_time": "2024-05-08T08:55:40.841005",
     "exception": false,
     "start_time": "2024-05-08T08:55:40.770845",
     "status": "completed"
    },
    "tags": []
   },
   "source": [
    "This kernel uses exercises of NumPy from the Machine Learning Plus webpage --> https://www.machinelearningplus.com/python/101-numpy-exercises-python/"
   ]
  },
  {
   "cell_type": "markdown",
   "metadata": {
    "papermill": {
     "duration": 0.069686,
     "end_time": "2024-05-08T08:55:40.980969",
     "exception": false,
     "start_time": "2024-05-08T08:55:40.911283",
     "status": "completed"
    },
    "tags": []
   },
   "source": [
    "This kernel is part of my 100 days of machine learning challenge.\n",
    "Check out my progress on this challenge --> https://github.com/themlphdstudent/100DaysofMachineLearning"
   ]
  },
  {
   "cell_type": "markdown",
   "metadata": {
    "papermill": {
     "duration": 0.069246,
     "end_time": "2024-05-08T08:55:41.120127",
     "exception": false,
     "start_time": "2024-05-08T08:55:41.050881",
     "status": "completed"
    },
    "tags": []
   },
   "source": [
    "## <font color='red'> <center> I am continuously updating this kernel. </center> </font>\n",
    "\n",
    "## <font color='red'> <center> Don't forget to upvote. </center> </font>"
   ]
  },
  {
   "cell_type": "markdown",
   "metadata": {
    "papermill": {
     "duration": 0.069153,
     "end_time": "2024-05-08T08:55:41.258808",
     "exception": false,
     "start_time": "2024-05-08T08:55:41.189655",
     "status": "completed"
    },
    "tags": []
   },
   "source": [
    "<a id=\"top\"></a>\n",
    "# Table of Content\n",
    "- [Import required libraries](import_required_libraries)\n",
    "- [*Exercise 1*. Import numpy as np and see the version](#1)\n",
    "- [*Exercise 2*. How to create a 1D array?](#2)\n",
    "- [*Exercise 3*. How to create a boolean array?](#3)\n",
    "- [*Exercise 4*. How to extract items that satisfy a given condition from 1D array?](#4)\n",
    "- [*Exercise 5*. How to replace items that satisfy a condition with another value in numpy array?](#5)\n",
    "- [*Exercise 6*. How to replace items that satisfy a condition without affecting the original array?](#6)\n",
    "- [*Exercise 7*. How to reshape an array?](#7)\n",
    "- [*Exercise 8*. How to stack two arrays vertically?](#8)\n",
    "- [*Exercise 9*. How to stack two arrays horizontally?](#9)\n",
    "- [*Exercise 10*. How to generate custom sequences in numpy without hardcoding?](#10)\n",
    "- [*Exercise 11*. How to get the common items between two python numpy arrays?](#11)\n",
    "- [*Exercise 12*. How to remove from one array those items that exist in another?](#12)\n",
    "- [*Exercise 13*. How to get the positions where elements of two arrays match?](#13)\n",
    "- [*Exercise 14*. How to extract all numbers between a given range from a numpy array?](#14)\n",
    "- [*Exercise 15*. How to make a python function that handles scalars to work on numpy arrays?](#15)\n",
    "- [*Exercise 16*. How to swap two columns in a 2d numpy array?](#16)\n",
    "- [*Exercise 17*. How to swap two rows in a 2d numpy array?](#17)\n",
    "- [*Exercise 18*. How to reverse the rows of a 2D array?](#18)\n",
    "- [*Exercise 19*. How to reverse the columns of a 2D array?](#19)\n",
    "- [*Exercise 20*. How to create a 2D array containing random floats between 5 and 10?](#20)\n",
    "- [*Exercise 21*. How to print only 3 decimal places in python numpy array?](#21)\n",
    "- [*Exercise 22*. How to pretty print a numpy array by suppressing the scientific notation (like 1e10)?](#22)\n",
    "- [*Exercise 23*. How to limit the number of items printed in output of numpy array?](#23)\n",
    "- [*Exercise 24*. How to print the full numpy array without truncating](#24)\n",
    "- [*Exercise 25*. How to import a dataset with numbers and texts keeping the text intact in python numpy?](#25)\n",
    "- [*Exercise 26*. How to extract a particular column from 1D array of tuples?](#26)\n",
    "- [*Exercise 27*. How to convert a 1d array of tuples to a 2d numpy array? ](#27)\n",
    "- [*Exercise 28*. How to compute the mean, median, standard deviation of a numpy array?](#28)\n",
    "- [*Exercise 29*. How to normalize an array so the values range exactly between 0 and 1?](#29)\n",
    "- [*Exercise 30*. How to compute the softmax score?](#30)\n",
    "- [*Exercise 31*. How to find the percentile scores of a numpy array?](#31)\n",
    "- [*Exercise 32*. How to insert values at random positions in an array?](#32)\n",
    "- [*Exercise 33*. How to find the position of missing values in numpy array?](#33)\n",
    "- [*Exercise 34*. How to filter a numpy array based on two or more conditions?](#34)\n",
    "- [*Exercise 35*. How to drop rows that contain a missing value from a numpy array?](#35)\n",
    "- [*Exercise 36*. How to find the correlation between two columns of a numpy array?](#36)\n",
    "- [*Exercise 43*. How to get the second largest value of an array when grouped by another array?](#43)\n",
    "- [*Exercise 44*. How to sort a 2D array by a column](#44)\n",
    "- [*Exercise 45*. How to find the most frequent value in a numpy array?](#45)\n",
    "- [*Exercise 46*. How to find the position of the first occurrence of a value greater than a given value?](#46)\n",
    "- [*Exercise 47*. How to replace all values greater than a given value to a given cutoff?](#47)\n",
    "- [*Exercise 48*. How to get the positions of top n values from a numpy array?](#48)\n",
    "- [*Exercise 49*. How to compute the row wise counts of all possible values in an array?](#49)\n",
    "- [*Exercise 50*. How to convert an array of arrays into a flat 1d array?](#50)"
   ]
  },
  {
   "cell_type": "markdown",
   "metadata": {
    "papermill": {
     "duration": 0.068942,
     "end_time": "2024-05-08T08:55:41.397622",
     "exception": false,
     "start_time": "2024-05-08T08:55:41.328680",
     "status": "completed"
    },
    "tags": []
   },
   "source": [
    "<a id='import_required_libraries'></a>\n",
    "## Import required libraries\n",
    "<a href=\"#top\" class=\"btn btn-primary btn-sm\" role=\"button\" aria-pressed=\"true\" style=\"color:white\" data-toggle=\"popover\">Go to TOC</a>"
   ]
  },
  {
   "cell_type": "code",
   "execution_count": 1,
   "metadata": {
    "_cell_guid": "b1076dfc-b9ad-4769-8c92-a6c4dae69d19",
    "_uuid": "8f2839f25d086af736a60e9eeb907d3b93b6e0e5",
    "execution": {
     "iopub.execute_input": "2024-05-08T08:55:41.547032Z",
     "iopub.status.busy": "2024-05-08T08:55:41.546009Z",
     "iopub.status.idle": "2024-05-08T08:55:41.577549Z",
     "shell.execute_reply": "2024-05-08T08:55:41.576826Z"
    },
    "papermill": {
     "duration": 0.110104,
     "end_time": "2024-05-08T08:55:41.577693",
     "exception": false,
     "start_time": "2024-05-08T08:55:41.467589",
     "status": "completed"
    },
    "tags": []
   },
   "outputs": [
    {
     "name": "stdout",
     "output_type": "stream",
     "text": [
      "../input/heart-disease-uci/heart.csv\n",
      "../input/iris/Iris.csv\n",
      "../input/iris/database.sqlite\n",
      "../input/red-wine-quality-cortez-et-al-2009/winequality-red.csv\n",
      "../input/mushroom-classification/mushrooms.csv\n",
      "../input/pima-indians-diabetes-database/diabetes.csv\n"
     ]
    }
   ],
   "source": [
    "# importing the core library\n",
    "import numpy as np\n",
    "\n",
    "import os\n",
    "for dirname, _, filenames in os.walk('../input'):\n",
    "    for filename in filenames:\n",
    "        print(os.path.join(dirname, filename))\n",
    "        \n",
    "# print multiple output in single cell\n",
    "from IPython.core.interactiveshell import InteractiveShell\n",
    "InteractiveShell.ast_node_interactivity = \"all\""
   ]
  },
  {
   "cell_type": "markdown",
   "metadata": {
    "papermill": {
     "duration": 0.073164,
     "end_time": "2024-05-08T08:55:41.723453",
     "exception": false,
     "start_time": "2024-05-08T08:55:41.650289",
     "status": "completed"
    },
    "tags": []
   },
   "source": [
    "<a id='1'></a>\n",
    "### *Exercise 1*. Import numpy as np and see the version\n",
    "<a href=\"#top\" class=\"btn btn-primary btn-sm\" role=\"button\" aria-pressed=\"true\" style=\"color:white\" data-toggle=\"popover\">Go to TOC</a>"
   ]
  },
  {
   "cell_type": "code",
   "execution_count": 2,
   "metadata": {
    "_cell_guid": "79c7e3d0-c299-4dcb-8224-4455121ee9b0",
    "_uuid": "d629ff2d2480ee46fbb7e2d37f6b5fab8052498a",
    "execution": {
     "iopub.execute_input": "2024-05-08T08:55:41.875868Z",
     "iopub.status.busy": "2024-05-08T08:55:41.874883Z",
     "iopub.status.idle": "2024-05-08T08:55:41.878212Z",
     "shell.execute_reply": "2024-05-08T08:55:41.878848Z"
    },
    "papermill": {
     "duration": 0.082523,
     "end_time": "2024-05-08T08:55:41.879020",
     "exception": false,
     "start_time": "2024-05-08T08:55:41.796497",
     "status": "completed"
    },
    "tags": []
   },
   "outputs": [
    {
     "name": "stdout",
     "output_type": "stream",
     "text": [
      "1.18.5\n"
     ]
    }
   ],
   "source": [
    "\n",
    "import numpy as np\n",
    "print(np.__version__)"
   ]
  },
  {
   "cell_type": "markdown",
   "metadata": {
    "papermill": {
     "duration": 0.071903,
     "end_time": "2024-05-08T08:55:42.022330",
     "exception": false,
     "start_time": "2024-05-08T08:55:41.950427",
     "status": "completed"
    },
    "tags": []
   },
   "source": [
    "<a id='2'></a>\n",
    "### *Exercise 2*. How to create a 1D array?\n",
    "<a href=\"#top\" class=\"btn btn-primary btn-sm\" role=\"button\" aria-pressed=\"true\" style=\"color:white\" data-toggle=\"popover\">Go to TOC</a>"
   ]
  },
  {
   "cell_type": "code",
   "execution_count": 3,
   "metadata": {
    "execution": {
     "iopub.execute_input": "2024-05-08T08:55:42.180275Z",
     "iopub.status.busy": "2024-05-08T08:55:42.179126Z",
     "iopub.status.idle": "2024-05-08T08:55:42.184253Z",
     "shell.execute_reply": "2024-05-08T08:55:42.183595Z"
    },
    "papermill": {
     "duration": 0.087073,
     "end_time": "2024-05-08T08:55:42.184380",
     "exception": false,
     "start_time": "2024-05-08T08:55:42.097307",
     "status": "completed"
    },
    "tags": []
   },
   "outputs": [
    {
     "data": {
      "text/plain": [
       "array([0, 1, 2, 3, 4, 5, 6, 7, 8, 9])"
      ]
     },
     "execution_count": 3,
     "metadata": {},
     "output_type": "execute_result"
    }
   ],
   "source": [
    "# Question : Create a 1D array of numbers from 0 to 9\n",
    "# Output : #> array([0, 1, 2, 3, 4, 5, 6, 7, 8, 9])\n",
    "\n",
    "# Solution\n",
    "X = np.arange(10)\n",
    "X"
   ]
  },
  {
   "cell_type": "markdown",
   "metadata": {
    "papermill": {
     "duration": 0.071543,
     "end_time": "2024-05-08T08:55:42.327851",
     "exception": false,
     "start_time": "2024-05-08T08:55:42.256308",
     "status": "completed"
    },
    "tags": []
   },
   "source": [
    "<a id='3'></a>\n",
    "### *Exercise 3*. How to create a boolean array?\n",
    "<a href=\"#top\" class=\"btn btn-primary btn-sm\" role=\"button\" aria-pressed=\"true\" style=\"color:white\" data-toggle=\"popover\">Go to TOC</a>"
   ]
  },
  {
   "cell_type": "code",
   "execution_count": 4,
   "metadata": {
    "execution": {
     "iopub.execute_input": "2024-05-08T08:55:42.475729Z",
     "iopub.status.busy": "2024-05-08T08:55:42.474897Z",
     "iopub.status.idle": "2024-05-08T08:55:42.491106Z",
     "shell.execute_reply": "2024-05-08T08:55:42.491677Z"
    },
    "papermill": {
     "duration": 0.091905,
     "end_time": "2024-05-08T08:55:42.491851",
     "exception": false,
     "start_time": "2024-05-08T08:55:42.399946",
     "status": "completed"
    },
    "tags": []
   },
   "outputs": [
    {
     "data": {
      "text/plain": [
       "array([[ True,  True,  True],\n",
       "       [ True,  True,  True],\n",
       "       [ True,  True,  True]])"
      ]
     },
     "execution_count": 4,
     "metadata": {},
     "output_type": "execute_result"
    },
    {
     "data": {
      "text/plain": [
       "array([[ True,  True,  True],\n",
       "       [ True,  True,  True],\n",
       "       [ True,  True,  True]])"
      ]
     },
     "execution_count": 4,
     "metadata": {},
     "output_type": "execute_result"
    },
    {
     "data": {
      "text/plain": [
       "array([[ True,  True,  True],\n",
       "       [ True,  True,  True],\n",
       "       [ True,  True,  True]])"
      ]
     },
     "execution_count": 4,
     "metadata": {},
     "output_type": "execute_result"
    },
    {
     "data": {
      "text/plain": [
       "array([[ True,  True,  True],\n",
       "       [ True,  True,  True],\n",
       "       [ True,  True,  True]])"
      ]
     },
     "execution_count": 4,
     "metadata": {},
     "output_type": "execute_result"
    }
   ],
   "source": [
    "# Question : Create a 3×3 numpy array of all True’s\n",
    "\n",
    "# Solution\n",
    "np.full((3,3), True, dtype=bool)\n",
    "\n",
    "#or\n",
    "np.full((9), True, dtype=bool).reshape(3,3)\n",
    "\n",
    "#or\n",
    "np.ones((3,3), dtype=bool)\n",
    "\n",
    "#or\n",
    "np.ones((9), dtype=bool).reshape(3,3)"
   ]
  },
  {
   "cell_type": "markdown",
   "metadata": {
    "papermill": {
     "duration": 0.087169,
     "end_time": "2024-05-08T08:55:42.667776",
     "exception": false,
     "start_time": "2024-05-08T08:55:42.580607",
     "status": "completed"
    },
    "tags": []
   },
   "source": [
    "<a id='4'></a>\n",
    "### *Exercise 4*. How to extract items that satisfy a given condition from 1D array?\n",
    "<a href=\"#top\" class=\"btn btn-primary btn-sm\" role=\"button\" aria-pressed=\"true\" style=\"color:white\" data-toggle=\"popover\">Go to TOC</a>"
   ]
  },
  {
   "cell_type": "code",
   "execution_count": 5,
   "metadata": {
    "execution": {
     "iopub.execute_input": "2024-05-08T08:55:42.829956Z",
     "iopub.status.busy": "2024-05-08T08:55:42.829134Z",
     "iopub.status.idle": "2024-05-08T08:55:42.835120Z",
     "shell.execute_reply": "2024-05-08T08:55:42.835681Z"
    },
    "papermill": {
     "duration": 0.086332,
     "end_time": "2024-05-08T08:55:42.835860",
     "exception": false,
     "start_time": "2024-05-08T08:55:42.749528",
     "status": "completed"
    },
    "tags": []
   },
   "outputs": [
    {
     "data": {
      "text/plain": [
       "array([1, 3, 5, 7, 9])"
      ]
     },
     "execution_count": 5,
     "metadata": {},
     "output_type": "execute_result"
    }
   ],
   "source": [
    "# Question : Extract all odd numbers from array\n",
    "# input: arr = np.array([0, 1, 2, 3, 4, 5, 6, 7, 8, 9])\n",
    "# output: array([1, 3, 5, 7, 9])\n",
    "\n",
    "#Solution\n",
    "\n",
    "arr = np.arange(10)\n",
    "\n",
    "arr[arr%2 == 1]"
   ]
  },
  {
   "cell_type": "markdown",
   "metadata": {
    "papermill": {
     "duration": 0.100966,
     "end_time": "2024-05-08T08:55:43.011111",
     "exception": false,
     "start_time": "2024-05-08T08:55:42.910145",
     "status": "completed"
    },
    "tags": []
   },
   "source": [
    "<a id='5'></a>\n",
    "### *Exercise 5*. How to replace items that satisfy a condition with another value in numpy array?\n",
    "<a href=\"#top\" class=\"btn btn-primary btn-sm\" role=\"button\" aria-pressed=\"true\" style=\"color:white\" data-toggle=\"popover\">Go to TOC</a>"
   ]
  },
  {
   "cell_type": "code",
   "execution_count": 6,
   "metadata": {
    "execution": {
     "iopub.execute_input": "2024-05-08T08:55:43.165169Z",
     "iopub.status.busy": "2024-05-08T08:55:43.164411Z",
     "iopub.status.idle": "2024-05-08T08:55:43.170782Z",
     "shell.execute_reply": "2024-05-08T08:55:43.171353Z"
    },
    "papermill": {
     "duration": 0.085405,
     "end_time": "2024-05-08T08:55:43.171541",
     "exception": false,
     "start_time": "2024-05-08T08:55:43.086136",
     "status": "completed"
    },
    "tags": []
   },
   "outputs": [
    {
     "data": {
      "text/plain": [
       "array([ 0, -1,  2, -1,  4, -1,  6, -1,  8, -1])"
      ]
     },
     "execution_count": 6,
     "metadata": {},
     "output_type": "execute_result"
    }
   ],
   "source": [
    "# Question: Replace all odd numbers in arr with -1\n",
    "# input: arr = np.array([0, 1, 2, 3, 4, 5, 6, 7, 8, 9])\n",
    "# output: array([ 0, -1,  2, -1,  4, -1,  6, -1,  8, -1])\n",
    "\n",
    "# Solution\n",
    "\n",
    "arr = np.arange(10)\n",
    "\n",
    "arr[arr%2 == 1] = -1\n",
    "arr"
   ]
  },
  {
   "cell_type": "markdown",
   "metadata": {
    "papermill": {
     "duration": 0.074244,
     "end_time": "2024-05-08T08:55:43.320618",
     "exception": false,
     "start_time": "2024-05-08T08:55:43.246374",
     "status": "completed"
    },
    "tags": []
   },
   "source": [
    "<a id='6'></a>\n",
    "### *Exercise 6*. How to replace items that satisfy a condition without affecting the original array?\n",
    "<a href=\"#top\" class=\"btn btn-primary btn-sm\" role=\"button\" aria-pressed=\"true\" style=\"color:white\" data-toggle=\"popover\">Go to TOC</a>"
   ]
  },
  {
   "cell_type": "code",
   "execution_count": 7,
   "metadata": {
    "execution": {
     "iopub.execute_input": "2024-05-08T08:55:43.481745Z",
     "iopub.status.busy": "2024-05-08T08:55:43.480925Z",
     "iopub.status.idle": "2024-05-08T08:55:43.495136Z",
     "shell.execute_reply": "2024-05-08T08:55:43.495798Z"
    },
    "papermill": {
     "duration": 0.100673,
     "end_time": "2024-05-08T08:55:43.495964",
     "exception": false,
     "start_time": "2024-05-08T08:55:43.395291",
     "status": "completed"
    },
    "tags": []
   },
   "outputs": [
    {
     "name": "stdout",
     "output_type": "stream",
     "text": [
      "Modified Array\n"
     ]
    },
    {
     "data": {
      "text/plain": [
       "array([ 0, -1,  2, -1,  4, -1,  6, -1,  8, -1])"
      ]
     },
     "execution_count": 7,
     "metadata": {},
     "output_type": "execute_result"
    },
    {
     "name": "stdout",
     "output_type": "stream",
     "text": [
      "\n",
      "Original Array\n"
     ]
    },
    {
     "data": {
      "text/plain": [
       "array([0, 1, 2, 3, 4, 5, 6, 7, 8, 9])"
      ]
     },
     "execution_count": 7,
     "metadata": {},
     "output_type": "execute_result"
    }
   ],
   "source": [
    "# Question: Replace all odd numbers in arr with -1 without changing arr\n",
    "# input: arr = np.array([0, 1, 2, 3, 4, 5, 6, 7, 8, 9])\n",
    "# output: out\n",
    "# array([ 0, -1,  2, -1,  4, -1,  6, -1,  8, -1])\n",
    "# arr\n",
    "# array([0, 1, 2, 3, 4, 5, 6, 7, 8, 9])\n",
    "\n",
    "# Solution\n",
    "\n",
    "arr = np.arange(10)\n",
    "\n",
    "out = arr.copy()\n",
    "\n",
    "out[out%2 == 1] = -1\n",
    "\n",
    "print('Modified Array')\n",
    "out\n",
    "\n",
    "print('\\nOriginal Array')\n",
    "arr"
   ]
  },
  {
   "cell_type": "markdown",
   "metadata": {
    "papermill": {
     "duration": 0.076198,
     "end_time": "2024-05-08T08:55:43.650968",
     "exception": false,
     "start_time": "2024-05-08T08:55:43.574770",
     "status": "completed"
    },
    "tags": []
   },
   "source": [
    "<a id='7'></a>\n",
    "### *Exercise 7*. How to reshape an array?\n",
    "<a href=\"#top\" class=\"btn btn-primary btn-sm\" role=\"button\" aria-pressed=\"true\" style=\"color:white\" data-toggle=\"popover\">Go to TOC</a>"
   ]
  },
  {
   "cell_type": "code",
   "execution_count": 8,
   "metadata": {
    "execution": {
     "iopub.execute_input": "2024-05-08T08:55:43.809951Z",
     "iopub.status.busy": "2024-05-08T08:55:43.808858Z",
     "iopub.status.idle": "2024-05-08T08:55:43.819773Z",
     "shell.execute_reply": "2024-05-08T08:55:43.820382Z"
    },
    "papermill": {
     "duration": 0.092791,
     "end_time": "2024-05-08T08:55:43.820561",
     "exception": false,
     "start_time": "2024-05-08T08:55:43.727770",
     "status": "completed"
    },
    "tags": []
   },
   "outputs": [
    {
     "data": {
      "text/plain": [
       "array([[0, 1, 2, 3, 4],\n",
       "       [5, 6, 7, 8, 9]])"
      ]
     },
     "execution_count": 8,
     "metadata": {},
     "output_type": "execute_result"
    },
    {
     "data": {
      "text/plain": [
       "array([[0, 1, 2, 3, 4],\n",
       "       [5, 6, 7, 8, 9]])"
      ]
     },
     "execution_count": 8,
     "metadata": {},
     "output_type": "execute_result"
    }
   ],
   "source": [
    "# Question: Convert a 1D array to a 2D array with 2 rows\n",
    "# input: np.arange(10)\n",
    "# output array([[0, 1, 2, 3, 4],\n",
    "#               [5, 6, 7, 8, 9]])\n",
    "\n",
    "# Solution\n",
    "\n",
    "arr = np.arange(10)\n",
    "arr.reshape(2,5)\n",
    "\n",
    "# Another solution\n",
    "arr = np.arange(10)\n",
    "arr.reshape(2, -1)  # Setting to -1 automatically decides the number of cols"
   ]
  },
  {
   "cell_type": "markdown",
   "metadata": {
    "papermill": {
     "duration": 0.076984,
     "end_time": "2024-05-08T08:55:43.975016",
     "exception": false,
     "start_time": "2024-05-08T08:55:43.898032",
     "status": "completed"
    },
    "tags": []
   },
   "source": [
    "<a id='8'></a>\n",
    "### *Exercise 8*. How to stack two arrays vertically?\n",
    "<a href=\"#top\" class=\"btn btn-primary btn-sm\" role=\"button\" aria-pressed=\"true\" style=\"color:white\" data-toggle=\"popover\">Go to TOC</a>"
   ]
  },
  {
   "cell_type": "code",
   "execution_count": 9,
   "metadata": {
    "execution": {
     "iopub.execute_input": "2024-05-08T08:55:44.133739Z",
     "iopub.status.busy": "2024-05-08T08:55:44.132656Z",
     "iopub.status.idle": "2024-05-08T08:55:44.141251Z",
     "shell.execute_reply": "2024-05-08T08:55:44.141944Z"
    },
    "papermill": {
     "duration": 0.089895,
     "end_time": "2024-05-08T08:55:44.142123",
     "exception": false,
     "start_time": "2024-05-08T08:55:44.052228",
     "status": "completed"
    },
    "tags": []
   },
   "outputs": [
    {
     "data": {
      "text/plain": [
       "array([[0, 1, 2, 3, 4],\n",
       "       [5, 6, 7, 8, 9],\n",
       "       [1, 1, 1, 1, 1],\n",
       "       [1, 1, 1, 1, 1]])"
      ]
     },
     "execution_count": 9,
     "metadata": {},
     "output_type": "execute_result"
    }
   ],
   "source": [
    "# Question: Stack arrays a and b vertically\n",
    "# input: a = np.arange(10).reshape(2,-1)\n",
    "#        b = np.repeat(1, 10).reshape(2,-1)\n",
    "\n",
    "# output: array([[0, 1, 2, 3, 4],\n",
    "#                [5, 6, 7, 8, 9],\n",
    "#                [1, 1, 1, 1, 1],\n",
    "#                [1, 1, 1, 1, 1]])\n",
    "\n",
    "# Solution\n",
    "\n",
    "a = np.arange(10).reshape(2,-1)\n",
    "b = np.repeat(1, 10).reshape(2,-1)\n",
    "\n",
    "np.vstack([a,b])"
   ]
  },
  {
   "cell_type": "markdown",
   "metadata": {
    "papermill": {
     "duration": 0.078031,
     "end_time": "2024-05-08T08:55:44.299078",
     "exception": false,
     "start_time": "2024-05-08T08:55:44.221047",
     "status": "completed"
    },
    "tags": []
   },
   "source": [
    "<a id='9'></a>\n",
    "### *Exercise 9*. How to stack two arrays horizontally?\n",
    "<a href=\"#top\" class=\"btn btn-primary btn-sm\" role=\"button\" aria-pressed=\"true\" style=\"color:white\" data-toggle=\"popover\">Go to TOC</a>"
   ]
  },
  {
   "cell_type": "code",
   "execution_count": 10,
   "metadata": {
    "execution": {
     "iopub.execute_input": "2024-05-08T08:55:44.459946Z",
     "iopub.status.busy": "2024-05-08T08:55:44.459097Z",
     "iopub.status.idle": "2024-05-08T08:55:44.467334Z",
     "shell.execute_reply": "2024-05-08T08:55:44.468084Z"
    },
    "papermill": {
     "duration": 0.09097,
     "end_time": "2024-05-08T08:55:44.468245",
     "exception": false,
     "start_time": "2024-05-08T08:55:44.377275",
     "status": "completed"
    },
    "tags": []
   },
   "outputs": [
    {
     "data": {
      "text/plain": [
       "array([[0, 1, 2, 3, 4, 1, 1, 1, 1, 1],\n",
       "       [5, 6, 7, 8, 9, 1, 1, 1, 1, 1]])"
      ]
     },
     "execution_count": 10,
     "metadata": {},
     "output_type": "execute_result"
    }
   ],
   "source": [
    "# Question: Stack the arrays a and b horizontally.\n",
    "\n",
    "# Input: a = np.arange(10).reshape(2,-1)\n",
    "#        b = np.repeat(1, 10).reshape(2,-1)\n",
    "# Output: array([[0, 1, 2, 3, 4, 1, 1, 1, 1, 1],\n",
    "#                [5, 6, 7, 8, 9, 1, 1, 1, 1, 1]])\n",
    "\n",
    "\n",
    "# Solution:\n",
    "a = np.arange(10).reshape(2,-1)\n",
    "b = np.repeat(1, 10).reshape(2,-1)\n",
    "\n",
    "np.hstack([a,b])"
   ]
  },
  {
   "cell_type": "markdown",
   "metadata": {
    "papermill": {
     "duration": 0.081675,
     "end_time": "2024-05-08T08:55:44.629503",
     "exception": false,
     "start_time": "2024-05-08T08:55:44.547828",
     "status": "completed"
    },
    "tags": []
   },
   "source": [
    "<a id='10'></a>\n",
    "### *Exercise 10*. How to generate custom sequences in numpy without hardcoding?\n",
    "<a href=\"#top\" class=\"btn btn-primary btn-sm\" role=\"button\" aria-pressed=\"true\" style=\"color:white\" data-toggle=\"popover\">Go to TOC</a>"
   ]
  },
  {
   "cell_type": "code",
   "execution_count": 11,
   "metadata": {
    "execution": {
     "iopub.execute_input": "2024-05-08T08:55:44.800886Z",
     "iopub.status.busy": "2024-05-08T08:55:44.800029Z",
     "iopub.status.idle": "2024-05-08T08:55:44.807373Z",
     "shell.execute_reply": "2024-05-08T08:55:44.806776Z"
    },
    "papermill": {
     "duration": 0.098068,
     "end_time": "2024-05-08T08:55:44.807525",
     "exception": false,
     "start_time": "2024-05-08T08:55:44.709457",
     "status": "completed"
    },
    "tags": []
   },
   "outputs": [
    {
     "data": {
      "text/plain": [
       "array([1, 1, 1, 2, 2, 2, 3, 3, 3, 1, 2, 3, 1, 2, 3, 1, 2, 3])"
      ]
     },
     "execution_count": 11,
     "metadata": {},
     "output_type": "execute_result"
    },
    {
     "data": {
      "text/plain": [
       "array([1, 1, 1, 2, 2, 2, 3, 3, 3, 1, 2, 3, 1, 2, 3, 1, 2, 3])"
      ]
     },
     "execution_count": 11,
     "metadata": {},
     "output_type": "execute_result"
    }
   ],
   "source": [
    "# Question: Create the following pattern without hardcoding. Use only numpy functions and the below input array a.\n",
    "\n",
    "# Input: a = np.array([1,2,3])\n",
    "# Output: array([1, 1, 1, 2, 2, 2, 3, 3, 3, 1, 2, 3, 1, 2, 3, 1, 2, 3])\n",
    "\n",
    "\n",
    "# Solution\n",
    "\n",
    "a = np.array([1,2,3])\n",
    "np.r_[np.repeat(a, 3), np.tile(a, 3)]\n",
    "\n",
    "#other solution\n",
    "np.hstack((np.repeat(a, 3), np.tile(a, 3)))"
   ]
  },
  {
   "cell_type": "markdown",
   "metadata": {
    "papermill": {
     "duration": 0.079615,
     "end_time": "2024-05-08T08:55:44.968249",
     "exception": false,
     "start_time": "2024-05-08T08:55:44.888634",
     "status": "completed"
    },
    "tags": []
   },
   "source": [
    "<a id='11'></a>\n",
    "### *Exercise 11*. How to get the common items between two python numpy arrays?\n",
    "<a href=\"#top\" class=\"btn btn-primary btn-sm\" role=\"button\" aria-pressed=\"true\" style=\"color:white\" data-toggle=\"popover\">Go to TOC</a>"
   ]
  },
  {
   "cell_type": "code",
   "execution_count": 12,
   "metadata": {
    "execution": {
     "iopub.execute_input": "2024-05-08T08:55:45.140156Z",
     "iopub.status.busy": "2024-05-08T08:55:45.138985Z",
     "iopub.status.idle": "2024-05-08T08:55:45.143193Z",
     "shell.execute_reply": "2024-05-08T08:55:45.143838Z"
    },
    "papermill": {
     "duration": 0.095166,
     "end_time": "2024-05-08T08:55:45.144010",
     "exception": false,
     "start_time": "2024-05-08T08:55:45.048844",
     "status": "completed"
    },
    "tags": []
   },
   "outputs": [
    {
     "data": {
      "text/plain": [
       "array([2, 4])"
      ]
     },
     "execution_count": 12,
     "metadata": {},
     "output_type": "execute_result"
    }
   ],
   "source": [
    "# Question: Get the common items between a and b\n",
    "\n",
    "# Input: a = np.array([1,2,3,2,3,4,3,4,5,6])\n",
    "#        b = np.array([7,2,10,2,7,4,9,4,9,8])\n",
    "\n",
    "# Output: array([2, 4])\n",
    "\n",
    "\n",
    "# Solution:\n",
    "a = np.array([1,2,3,2,3,4,3,4,5,6])\n",
    "b = np.array([7,2,10,2,7,4,9,4,9,8])\n",
    "np.intersect1d(a,b)"
   ]
  },
  {
   "cell_type": "markdown",
   "metadata": {
    "papermill": {
     "duration": 0.082572,
     "end_time": "2024-05-08T08:55:45.309596",
     "exception": false,
     "start_time": "2024-05-08T08:55:45.227024",
     "status": "completed"
    },
    "tags": []
   },
   "source": [
    "<a id='12'></a>\n",
    "### *Exercise 12*. How to remove from one array those items that exist in another?\n",
    "<a href=\"#top\" class=\"btn btn-primary btn-sm\" role=\"button\" aria-pressed=\"true\" style=\"color:white\" data-toggle=\"popover\">Go to TOC</a>"
   ]
  },
  {
   "cell_type": "code",
   "execution_count": 13,
   "metadata": {
    "execution": {
     "iopub.execute_input": "2024-05-08T08:55:45.479142Z",
     "iopub.status.busy": "2024-05-08T08:55:45.478021Z",
     "iopub.status.idle": "2024-05-08T08:55:45.488166Z",
     "shell.execute_reply": "2024-05-08T08:55:45.487351Z"
    },
    "papermill": {
     "duration": 0.095791,
     "end_time": "2024-05-08T08:55:45.488302",
     "exception": false,
     "start_time": "2024-05-08T08:55:45.392511",
     "status": "completed"
    },
    "tags": []
   },
   "outputs": [
    {
     "data": {
      "text/plain": [
       "array([1, 2, 3, 4])"
      ]
     },
     "execution_count": 13,
     "metadata": {},
     "output_type": "execute_result"
    }
   ],
   "source": [
    "# Question: From array a remove all items present in array b\n",
    "\n",
    "# Input: a = np.array([1,2,3,4,5])\n",
    "#        b = np.array([5,6,7,8,9])\n",
    "\n",
    "# Output: array([1,2,3,4])\n",
    "\n",
    "\n",
    "# Solution\n",
    "a = np.array([1,2,3,4,5])\n",
    "b = np.array([5,6,7,8,9])\n",
    "\n",
    "np.setdiff1d(a,b)"
   ]
  },
  {
   "cell_type": "markdown",
   "metadata": {
    "papermill": {
     "duration": 0.081621,
     "end_time": "2024-05-08T08:55:45.654947",
     "exception": false,
     "start_time": "2024-05-08T08:55:45.573326",
     "status": "completed"
    },
    "tags": []
   },
   "source": [
    "<a id='13'></a>\n",
    "### *Exercise 13*. How to get the positions where elements of two arrays match?\n",
    "<a href=\"#top\" class=\"btn btn-primary btn-sm\" role=\"button\" aria-pressed=\"true\" style=\"color:white\" data-toggle=\"popover\">Go to TOC</a>"
   ]
  },
  {
   "cell_type": "code",
   "execution_count": 14,
   "metadata": {
    "execution": {
     "iopub.execute_input": "2024-05-08T08:55:45.823058Z",
     "iopub.status.busy": "2024-05-08T08:55:45.822207Z",
     "iopub.status.idle": "2024-05-08T08:55:45.831094Z",
     "shell.execute_reply": "2024-05-08T08:55:45.831753Z"
    },
    "papermill": {
     "duration": 0.094762,
     "end_time": "2024-05-08T08:55:45.831923",
     "exception": false,
     "start_time": "2024-05-08T08:55:45.737161",
     "status": "completed"
    },
    "tags": []
   },
   "outputs": [
    {
     "data": {
      "text/plain": [
       "(array([1, 3, 5, 7]),)"
      ]
     },
     "execution_count": 14,
     "metadata": {},
     "output_type": "execute_result"
    }
   ],
   "source": [
    "# Question: Get the positions where elements of a and b match\n",
    "\n",
    "# Input: a = np.array([1,2,3,2,3,4,3,4,5,6])\n",
    "#        b = np.array([7,2,10,2,7,4,9,4,9,8])\n",
    "\n",
    "# Output: (array([1, 3, 5, 7]),)\n",
    "\n",
    "\n",
    "# Solution\n",
    "\n",
    "a = np.array([1,2,3,2,3,4,3,4,5,6])\n",
    "b = np.array([7,2,10,2,7,4,9,4,9,8])\n",
    "\n",
    "np.where(a == b)"
   ]
  },
  {
   "cell_type": "markdown",
   "metadata": {
    "papermill": {
     "duration": 0.081591,
     "end_time": "2024-05-08T08:55:45.995950",
     "exception": false,
     "start_time": "2024-05-08T08:55:45.914359",
     "status": "completed"
    },
    "tags": []
   },
   "source": [
    "<a id='14'></a>\n",
    "### *Exercise 14*. How to extract all numbers between a given range from a numpy array?\n",
    "<a href=\"#top\" class=\"btn btn-primary btn-sm\" role=\"button\" aria-pressed=\"true\" style=\"color:white\" data-toggle=\"popover\">Go to TOC</a>"
   ]
  },
  {
   "cell_type": "code",
   "execution_count": 15,
   "metadata": {
    "execution": {
     "iopub.execute_input": "2024-05-08T08:55:46.216283Z",
     "iopub.status.busy": "2024-05-08T08:55:46.215447Z",
     "iopub.status.idle": "2024-05-08T08:55:46.223254Z",
     "shell.execute_reply": "2024-05-08T08:55:46.223813Z"
    },
    "papermill": {
     "duration": 0.093747,
     "end_time": "2024-05-08T08:55:46.223986",
     "exception": false,
     "start_time": "2024-05-08T08:55:46.130239",
     "status": "completed"
    },
    "tags": []
   },
   "outputs": [
    {
     "data": {
      "text/plain": [
       "array([ 6,  9, 10])"
      ]
     },
     "execution_count": 15,
     "metadata": {},
     "output_type": "execute_result"
    }
   ],
   "source": [
    "# Question: Get all items between 5 and 10 from a.\n",
    "\n",
    "# Input: a = np.array([2, 6, 1, 9, 10, 3, 27])\n",
    "# Output: (array([6, 9, 10]),)\n",
    "\n",
    "\n",
    "# Solution\n",
    "\n",
    "a = np.array([2, 6, 1, 9, 10, 3, 27])\n",
    "a[(a >= 5) & (a <= 10)]"
   ]
  },
  {
   "cell_type": "markdown",
   "metadata": {
    "papermill": {
     "duration": 0.082671,
     "end_time": "2024-05-08T08:55:46.388963",
     "exception": false,
     "start_time": "2024-05-08T08:55:46.306292",
     "status": "completed"
    },
    "tags": []
   },
   "source": [
    "<a id='15'></a>\n",
    "### *Exercise 15*. How to make a python function that handles scalars to work on numpy arrays?\n",
    "<a href=\"#top\" class=\"btn btn-primary btn-sm\" role=\"button\" aria-pressed=\"true\" style=\"color:white\" data-toggle=\"popover\">Go to TOC</a>"
   ]
  },
  {
   "cell_type": "code",
   "execution_count": 16,
   "metadata": {
    "execution": {
     "iopub.execute_input": "2024-05-08T08:55:46.559725Z",
     "iopub.status.busy": "2024-05-08T08:55:46.558650Z",
     "iopub.status.idle": "2024-05-08T08:55:46.575104Z",
     "shell.execute_reply": "2024-05-08T08:55:46.574401Z"
    },
    "papermill": {
     "duration": 0.103884,
     "end_time": "2024-05-08T08:55:46.575240",
     "exception": false,
     "start_time": "2024-05-08T08:55:46.471356",
     "status": "completed"
    },
    "tags": []
   },
   "outputs": [
    {
     "data": {
      "text/plain": [
       "array([6, 7, 9, 8, 9, 7, 5])"
      ]
     },
     "execution_count": 16,
     "metadata": {},
     "output_type": "execute_result"
    }
   ],
   "source": [
    "# Question: Convert the function maxx that works on two scalars, to work on two arrays.\n",
    "# Input:\n",
    "\n",
    "def maxx(x, y):\n",
    "    \"\"\"Get the maximum of two items\"\"\"\n",
    "    if x >= y:\n",
    "        return x\n",
    "    else:\n",
    "        return y\n",
    "\n",
    "# maxx(1, 5)\n",
    "#> 5\n",
    "\n",
    "# Output:\n",
    "# a = np.array([5, 7, 9, 8, 6, 4, 5])\n",
    "# b = np.array([6, 3, 4, 8, 9, 7, 1])\n",
    "# pair_max(a, b)\n",
    "# array([ 6.,  7.,  9.,  8.,  9.,  7.,  5.])\n",
    "\n",
    "# Solution\n",
    "\n",
    "def pair_max(x, y):\n",
    "    # here I am using map to make tuple from a and b, other solution is using zip(a,b)\n",
    "    maximum = [maxx(a,b) for a,b in map(lambda a,b:(a,b),x,y)]\n",
    "    # using zip\n",
    "    # maximum = [maxx(a,b) for a,b in zip(x,y)]\n",
    "    return np.array(maximum)\n",
    "\n",
    "a = np.array([5, 7, 9, 8, 6, 4, 5])\n",
    "b = np.array([6, 3, 4, 8, 9, 7, 1])\n",
    "\n",
    "pair_max(a,b)"
   ]
  },
  {
   "cell_type": "markdown",
   "metadata": {
    "papermill": {
     "duration": 0.082541,
     "end_time": "2024-05-08T08:55:46.741271",
     "exception": false,
     "start_time": "2024-05-08T08:55:46.658730",
     "status": "completed"
    },
    "tags": []
   },
   "source": [
    "<a id='16'></a>\n",
    "### *Exercise 16*. How to swap two columns in a 2d numpy array?\n",
    "<a href=\"#top\" class=\"btn btn-primary btn-sm\" role=\"button\" aria-pressed=\"true\" style=\"color:white\" data-toggle=\"popover\">Go to TOC</a>"
   ]
  },
  {
   "cell_type": "code",
   "execution_count": 17,
   "metadata": {
    "execution": {
     "iopub.execute_input": "2024-05-08T08:55:46.913607Z",
     "iopub.status.busy": "2024-05-08T08:55:46.912532Z",
     "iopub.status.idle": "2024-05-08T08:55:46.926599Z",
     "shell.execute_reply": "2024-05-08T08:55:46.927249Z"
    },
    "papermill": {
     "duration": 0.102207,
     "end_time": "2024-05-08T08:55:46.927448",
     "exception": false,
     "start_time": "2024-05-08T08:55:46.825241",
     "status": "completed"
    },
    "tags": []
   },
   "outputs": [
    {
     "name": "stdout",
     "output_type": "stream",
     "text": [
      "Original array\n"
     ]
    },
    {
     "data": {
      "text/plain": [
       "array([[0, 1, 2],\n",
       "       [3, 4, 5],\n",
       "       [6, 7, 8]])"
      ]
     },
     "execution_count": 17,
     "metadata": {},
     "output_type": "execute_result"
    },
    {
     "name": "stdout",
     "output_type": "stream",
     "text": [
      "\n",
      "Modified array\n"
     ]
    },
    {
     "data": {
      "text/plain": [
       "array([[1, 0, 2],\n",
       "       [4, 3, 5],\n",
       "       [7, 6, 8]])"
      ]
     },
     "execution_count": 17,
     "metadata": {},
     "output_type": "execute_result"
    }
   ],
   "source": [
    "# Question: Swap columns 1 and 2 in the array arr.\n",
    "\n",
    "# Input:\n",
    "\n",
    "arr = np.arange(9).reshape(3,3)\n",
    "\n",
    "print('Original array')\n",
    "arr\n",
    "\n",
    "# Solution\n",
    "\n",
    "print(\"\\nModified array\")\n",
    "arr[:, [1,0,2]]"
   ]
  },
  {
   "cell_type": "markdown",
   "metadata": {
    "papermill": {
     "duration": 0.085556,
     "end_time": "2024-05-08T08:55:47.098858",
     "exception": false,
     "start_time": "2024-05-08T08:55:47.013302",
     "status": "completed"
    },
    "tags": []
   },
   "source": [
    "<a id='17'></a>\n",
    "### *Exercise 17*. How to swap two rows in a 2d numpy array?\n",
    "<a href=\"#top\" class=\"btn btn-primary btn-sm\" role=\"button\" aria-pressed=\"true\" style=\"color:white\" data-toggle=\"popover\">Go to TOC</a>"
   ]
  },
  {
   "cell_type": "code",
   "execution_count": 18,
   "metadata": {
    "execution": {
     "iopub.execute_input": "2024-05-08T08:55:47.276713Z",
     "iopub.status.busy": "2024-05-08T08:55:47.275928Z",
     "iopub.status.idle": "2024-05-08T08:55:47.285442Z",
     "shell.execute_reply": "2024-05-08T08:55:47.286084Z"
    },
    "papermill": {
     "duration": 0.101188,
     "end_time": "2024-05-08T08:55:47.286248",
     "exception": false,
     "start_time": "2024-05-08T08:55:47.185060",
     "status": "completed"
    },
    "tags": []
   },
   "outputs": [
    {
     "name": "stdout",
     "output_type": "stream",
     "text": [
      "Original array\n"
     ]
    },
    {
     "data": {
      "text/plain": [
       "array([[0, 1, 2],\n",
       "       [3, 4, 5],\n",
       "       [6, 7, 8]])"
      ]
     },
     "execution_count": 18,
     "metadata": {},
     "output_type": "execute_result"
    },
    {
     "name": "stdout",
     "output_type": "stream",
     "text": [
      "\n",
      "Modified array\n"
     ]
    },
    {
     "data": {
      "text/plain": [
       "array([[3, 4, 5],\n",
       "       [0, 1, 2],\n",
       "       [6, 7, 8]])"
      ]
     },
     "execution_count": 18,
     "metadata": {},
     "output_type": "execute_result"
    }
   ],
   "source": [
    "# Question: Swap rows 1 and 2 in the array arr:\n",
    "\n",
    "# Input: \n",
    "\n",
    "arr = np.arange(9).reshape(3,3)\n",
    "print('Original array')\n",
    "arr\n",
    "\n",
    "# Solution\n",
    "\n",
    "print(\"\\nModified array\")\n",
    "arr[[1,0,2], :]"
   ]
  },
  {
   "cell_type": "markdown",
   "metadata": {
    "papermill": {
     "duration": 0.09034,
     "end_time": "2024-05-08T08:55:47.466909",
     "exception": false,
     "start_time": "2024-05-08T08:55:47.376569",
     "status": "completed"
    },
    "tags": []
   },
   "source": [
    "<a id='18'></a>\n",
    "### *Exercise 18*. How to reverse the rows of a 2D array?\n",
    "<a href=\"#top\" class=\"btn btn-primary btn-sm\" role=\"button\" aria-pressed=\"true\" style=\"color:white\" data-toggle=\"popover\">Go to TOC</a>"
   ]
  },
  {
   "cell_type": "code",
   "execution_count": 19,
   "metadata": {
    "execution": {
     "iopub.execute_input": "2024-05-08T08:55:47.650546Z",
     "iopub.status.busy": "2024-05-08T08:55:47.649315Z",
     "iopub.status.idle": "2024-05-08T08:55:47.663904Z",
     "shell.execute_reply": "2024-05-08T08:55:47.662826Z"
    },
    "papermill": {
     "duration": 0.106023,
     "end_time": "2024-05-08T08:55:47.664066",
     "exception": false,
     "start_time": "2024-05-08T08:55:47.558043",
     "status": "completed"
    },
    "tags": []
   },
   "outputs": [
    {
     "name": "stdout",
     "output_type": "stream",
     "text": [
      "Original array\n"
     ]
    },
    {
     "data": {
      "text/plain": [
       "array([[0, 1, 2],\n",
       "       [3, 4, 5],\n",
       "       [6, 7, 8]])"
      ]
     },
     "execution_count": 19,
     "metadata": {},
     "output_type": "execute_result"
    },
    {
     "name": "stdout",
     "output_type": "stream",
     "text": [
      "\n",
      "Modified array\n"
     ]
    },
    {
     "data": {
      "text/plain": [
       "array([[6, 7, 8],\n",
       "       [3, 4, 5],\n",
       "       [0, 1, 2]])"
      ]
     },
     "execution_count": 19,
     "metadata": {},
     "output_type": "execute_result"
    }
   ],
   "source": [
    "# Question: Reverse the rows of a 2D array arr.\n",
    "\n",
    "# Input:\n",
    "\n",
    "arr = np.arange(9).reshape(3,3)\n",
    "\n",
    "print('Original array')\n",
    "arr\n",
    "\n",
    "# Solution\n",
    "\n",
    "print(\"\\nModified array\")\n",
    "arr[::-1, :]"
   ]
  },
  {
   "cell_type": "markdown",
   "metadata": {
    "papermill": {
     "duration": 0.088807,
     "end_time": "2024-05-08T08:55:47.844581",
     "exception": false,
     "start_time": "2024-05-08T08:55:47.755774",
     "status": "completed"
    },
    "tags": []
   },
   "source": [
    "<a id='19'></a>\n",
    "### *Exercise 19*. How to reverse the columns of a 2D array?\n",
    "<a href=\"#top\" class=\"btn btn-primary btn-sm\" role=\"button\" aria-pressed=\"true\" style=\"color:white\" data-toggle=\"popover\">Go to TOC</a>"
   ]
  },
  {
   "cell_type": "code",
   "execution_count": 20,
   "metadata": {
    "execution": {
     "iopub.execute_input": "2024-05-08T08:55:48.032135Z",
     "iopub.status.busy": "2024-05-08T08:55:48.031310Z",
     "iopub.status.idle": "2024-05-08T08:55:48.040813Z",
     "shell.execute_reply": "2024-05-08T08:55:48.040069Z"
    },
    "papermill": {
     "duration": 0.107986,
     "end_time": "2024-05-08T08:55:48.041007",
     "exception": false,
     "start_time": "2024-05-08T08:55:47.933021",
     "status": "completed"
    },
    "tags": []
   },
   "outputs": [
    {
     "name": "stdout",
     "output_type": "stream",
     "text": [
      "Original array\n"
     ]
    },
    {
     "data": {
      "text/plain": [
       "array([[0, 1, 2],\n",
       "       [3, 4, 5],\n",
       "       [6, 7, 8]])"
      ]
     },
     "execution_count": 20,
     "metadata": {},
     "output_type": "execute_result"
    },
    {
     "name": "stdout",
     "output_type": "stream",
     "text": [
      "\n",
      "Modified array\n"
     ]
    },
    {
     "data": {
      "text/plain": [
       "array([[2, 1, 0],\n",
       "       [5, 4, 3],\n",
       "       [8, 7, 6]])"
      ]
     },
     "execution_count": 20,
     "metadata": {},
     "output_type": "execute_result"
    }
   ],
   "source": [
    "# Question: Reverse the columns of a 2D array arr.\n",
    "\n",
    "# Input: arr = np.arange(9).reshape(3,3)\n",
    "\n",
    "# Solution\n",
    "\n",
    "arr = np.arange(9).reshape(3,3)\n",
    "print('Original array')\n",
    "arr\n",
    "\n",
    "\n",
    "print(\"\\nModified array\")\n",
    "arr[:, ::-1]"
   ]
  },
  {
   "cell_type": "markdown",
   "metadata": {
    "papermill": {
     "duration": 0.092858,
     "end_time": "2024-05-08T08:55:48.224662",
     "exception": false,
     "start_time": "2024-05-08T08:55:48.131804",
     "status": "completed"
    },
    "tags": []
   },
   "source": [
    "<a id='20'></a>\n",
    "### *Exercise 20*. How to create a 2D array containing random floats between 5 and 10?\n",
    "<a href=\"#top\" class=\"btn btn-primary btn-sm\" role=\"button\" aria-pressed=\"true\" style=\"color:white\" data-toggle=\"popover\">Go to TOC</a>"
   ]
  },
  {
   "cell_type": "code",
   "execution_count": 21,
   "metadata": {
    "execution": {
     "iopub.execute_input": "2024-05-08T08:55:48.414209Z",
     "iopub.status.busy": "2024-05-08T08:55:48.413379Z",
     "iopub.status.idle": "2024-05-08T08:55:48.417320Z",
     "shell.execute_reply": "2024-05-08T08:55:48.418012Z"
    },
    "papermill": {
     "duration": 0.102009,
     "end_time": "2024-05-08T08:55:48.418188",
     "exception": false,
     "start_time": "2024-05-08T08:55:48.316179",
     "status": "completed"
    },
    "tags": []
   },
   "outputs": [
    {
     "data": {
      "text/plain": [
       "array([[8.94215867, 9.48313389, 5.16046125],\n",
       "       [5.79609337, 5.07610146, 6.87205277],\n",
       "       [5.58624727, 6.39839238, 8.83909431],\n",
       "       [9.50567112, 7.81015086, 7.94951279],\n",
       "       [8.91540928, 7.88798918, 5.93284155]])"
      ]
     },
     "execution_count": 21,
     "metadata": {},
     "output_type": "execute_result"
    }
   ],
   "source": [
    "# Question: Create a 2D array of shape 5x3 to contain random decimal numbers between 5 and 10.\n",
    "\n",
    "# Solution:\n",
    "\n",
    "rand_arr = np.random.uniform(5,10, size=(5,3))\n",
    "rand_arr"
   ]
  },
  {
   "cell_type": "markdown",
   "metadata": {
    "papermill": {
     "duration": 0.095713,
     "end_time": "2024-05-08T08:55:48.606362",
     "exception": false,
     "start_time": "2024-05-08T08:55:48.510649",
     "status": "completed"
    },
    "tags": []
   },
   "source": [
    "<a id='21'></a>\n",
    "### *Exercise 21*. How to print only 3 decimal places in python numpy array?\n",
    "<a href=\"#top\" class=\"btn btn-primary btn-sm\" role=\"button\" aria-pressed=\"true\" style=\"color:white\" data-toggle=\"popover\">Go to TOC</a>"
   ]
  },
  {
   "cell_type": "code",
   "execution_count": 22,
   "metadata": {
    "execution": {
     "iopub.execute_input": "2024-05-08T08:55:48.798675Z",
     "iopub.status.busy": "2024-05-08T08:55:48.797885Z",
     "iopub.status.idle": "2024-05-08T08:55:48.802829Z",
     "shell.execute_reply": "2024-05-08T08:55:48.802198Z"
    },
    "papermill": {
     "duration": 0.103733,
     "end_time": "2024-05-08T08:55:48.802965",
     "exception": false,
     "start_time": "2024-05-08T08:55:48.699232",
     "status": "completed"
    },
    "tags": []
   },
   "outputs": [
    {
     "data": {
      "text/plain": [
       "array([[0.458, 0.417, 0.359],\n",
       "       [0.469, 0.729, 0.06 ],\n",
       "       [0.406, 0.504, 0.97 ],\n",
       "       [0.737, 0.985, 0.863],\n",
       "       [0.906, 0.716, 0.26 ]])"
      ]
     },
     "execution_count": 22,
     "metadata": {},
     "output_type": "execute_result"
    }
   ],
   "source": [
    "# Question: Print or show only 3 decimal places of the numpy array rand_arr.\n",
    "\n",
    "# Input: rand_arr = np.random.random((5,3))\n",
    "\n",
    "rand_arr = np.random.random((5,3))\n",
    "np.set_printoptions(precision=3)\n",
    "rand_arr"
   ]
  },
  {
   "cell_type": "markdown",
   "metadata": {
    "papermill": {
     "duration": 0.090581,
     "end_time": "2024-05-08T08:55:48.986101",
     "exception": false,
     "start_time": "2024-05-08T08:55:48.895520",
     "status": "completed"
    },
    "tags": []
   },
   "source": [
    "<a id='22'></a>\n",
    "### *Exercise 22*. How to pretty print a numpy array by suppressing the scientific notation (like 1e10)?\n",
    "<a href=\"#top\" class=\"btn btn-primary btn-sm\" role=\"button\" aria-pressed=\"true\" style=\"color:white\" data-toggle=\"popover\">Go to TOC</a>"
   ]
  },
  {
   "cell_type": "code",
   "execution_count": 23,
   "metadata": {
    "execution": {
     "iopub.execute_input": "2024-05-08T08:55:49.182262Z",
     "iopub.status.busy": "2024-05-08T08:55:49.181468Z",
     "iopub.status.idle": "2024-05-08T08:55:49.188635Z",
     "shell.execute_reply": "2024-05-08T08:55:49.187880Z"
    },
    "papermill": {
     "duration": 0.109977,
     "end_time": "2024-05-08T08:55:49.188766",
     "exception": false,
     "start_time": "2024-05-08T08:55:49.078789",
     "status": "completed"
    },
    "tags": []
   },
   "outputs": [
    {
     "data": {
      "text/plain": [
       "array([[5.434e-04, 2.784e-04, 4.245e-04],\n",
       "       [8.448e-04, 4.719e-06, 1.216e-04],\n",
       "       [6.707e-04, 8.259e-04, 1.367e-04]])"
      ]
     },
     "execution_count": 23,
     "metadata": {},
     "output_type": "execute_result"
    },
    {
     "data": {
      "text/plain": [
       "array([[0.001, 0.   , 0.   ],\n",
       "       [0.001, 0.   , 0.   ],\n",
       "       [0.001, 0.001, 0.   ]])"
      ]
     },
     "execution_count": 23,
     "metadata": {},
     "output_type": "execute_result"
    }
   ],
   "source": [
    "# Pretty print rand_arr by suppressing the scientific notation (like 1e10)\n",
    "\n",
    "# Input: \n",
    "# Create the random array\n",
    "np.random.seed(100)\n",
    "rand_arr = np.random.random([3,3])/1e3\n",
    "np.set_printoptions(suppress=False)\n",
    "rand_arr\n",
    "\n",
    "# Output:\n",
    "#> array([[ 0.000543,  0.000278,  0.000425],\n",
    "#>        [ 0.000845,  0.000005,  0.000122],\n",
    "#>        [ 0.000671,  0.000826,  0.000137]])\n",
    "\n",
    "np.set_printoptions(suppress=True)\n",
    "rand_arr\n",
    "#> array([[ 0.000543,  0.000278,  0.000425],\n",
    "#>        [ 0.000845,  0.000005,  0.000122],\n",
    "#>        [ 0.000671,  0.000826,  0.000137]])"
   ]
  },
  {
   "cell_type": "markdown",
   "metadata": {
    "papermill": {
     "duration": 0.093195,
     "end_time": "2024-05-08T08:55:49.375196",
     "exception": false,
     "start_time": "2024-05-08T08:55:49.282001",
     "status": "completed"
    },
    "tags": []
   },
   "source": [
    "<a id='23'></a>\n",
    "### *Exercise 23*. How to limit the number of items printed in output of numpy array?\n",
    "<a href=\"#top\" class=\"btn btn-primary btn-sm\" role=\"button\" aria-pressed=\"true\" style=\"color:white\" data-toggle=\"popover\">Go to TOC</a>"
   ]
  },
  {
   "cell_type": "code",
   "execution_count": 24,
   "metadata": {
    "execution": {
     "iopub.execute_input": "2024-05-08T08:55:49.566745Z",
     "iopub.status.busy": "2024-05-08T08:55:49.565912Z",
     "iopub.status.idle": "2024-05-08T08:55:49.570562Z",
     "shell.execute_reply": "2024-05-08T08:55:49.569733Z"
    },
    "papermill": {
     "duration": 0.10349,
     "end_time": "2024-05-08T08:55:49.570700",
     "exception": false,
     "start_time": "2024-05-08T08:55:49.467210",
     "status": "completed"
    },
    "tags": []
   },
   "outputs": [
    {
     "data": {
      "text/plain": [
       "array([ 0,  1,  2, ..., 12, 13, 14])"
      ]
     },
     "execution_count": 24,
     "metadata": {},
     "output_type": "execute_result"
    }
   ],
   "source": [
    "# Question: Limit the number of items printed in python numpy array a to a maximum of 6 elements.\n",
    "a = np.arange(15)\n",
    "np.set_printoptions(threshold=6)\n",
    "a"
   ]
  },
  {
   "cell_type": "markdown",
   "metadata": {
    "papermill": {
     "duration": 0.09336,
     "end_time": "2024-05-08T08:55:49.761190",
     "exception": false,
     "start_time": "2024-05-08T08:55:49.667830",
     "status": "completed"
    },
    "tags": []
   },
   "source": [
    "<a id='24'></a>\n",
    "### *Exercise 24*. How to print the full numpy array without truncating\n",
    "<a href=\"#top\" class=\"btn btn-primary btn-sm\" role=\"button\" aria-pressed=\"true\" style=\"color:white\" data-toggle=\"popover\">Go to TOC</a>"
   ]
  },
  {
   "cell_type": "code",
   "execution_count": 25,
   "metadata": {
    "execution": {
     "iopub.execute_input": "2024-05-08T08:55:49.954553Z",
     "iopub.status.busy": "2024-05-08T08:55:49.953771Z",
     "iopub.status.idle": "2024-05-08T08:55:49.959468Z",
     "shell.execute_reply": "2024-05-08T08:55:49.958721Z"
    },
    "papermill": {
     "duration": 0.105589,
     "end_time": "2024-05-08T08:55:49.959601",
     "exception": false,
     "start_time": "2024-05-08T08:55:49.854012",
     "status": "completed"
    },
    "tags": []
   },
   "outputs": [
    {
     "data": {
      "text/plain": [
       "array([ 0,  1,  2,  3,  4,  5,  6,  7,  8,  9, 10, 11, 12, 13, 14])"
      ]
     },
     "execution_count": 25,
     "metadata": {},
     "output_type": "execute_result"
    }
   ],
   "source": [
    "# Question: Print the full numpy array a without truncating.\n",
    "\n",
    "# Input: np.set_printoptions(threshold=6)\n",
    "# a = np.arange(15)\n",
    "# a\n",
    "\n",
    "# Output: a\n",
    "#> array([ 0,  1,  2,  3,  4,  5,  6,  7,  8,  9, 10, 11, 12, 13, 14])\n",
    "\n",
    "# Solution\n",
    "\n",
    "a = np.arange(15)\n",
    "\n",
    "\n",
    "np.set_printoptions(threshold=15)\n",
    "a"
   ]
  },
  {
   "cell_type": "markdown",
   "metadata": {
    "papermill": {
     "duration": 0.093572,
     "end_time": "2024-05-08T08:55:50.148292",
     "exception": false,
     "start_time": "2024-05-08T08:55:50.054720",
     "status": "completed"
    },
    "tags": []
   },
   "source": [
    "<a id='25'></a>\n",
    "### *Exercise 25*. How to import a dataset with numbers and texts keeping the text intact in python numpy?\n",
    "<a href=\"#top\" class=\"btn btn-primary btn-sm\" role=\"button\" aria-pressed=\"true\" style=\"color:white\" data-toggle=\"popover\">Go to TOC</a>"
   ]
  },
  {
   "cell_type": "code",
   "execution_count": 26,
   "metadata": {
    "execution": {
     "iopub.execute_input": "2024-05-08T08:55:50.342937Z",
     "iopub.status.busy": "2024-05-08T08:55:50.341855Z",
     "iopub.status.idle": "2024-05-08T08:55:50.356282Z",
     "shell.execute_reply": "2024-05-08T08:55:50.355605Z"
    },
    "papermill": {
     "duration": 0.114489,
     "end_time": "2024-05-08T08:55:50.356428",
     "exception": false,
     "start_time": "2024-05-08T08:55:50.241939",
     "status": "completed"
    },
    "tags": []
   },
   "outputs": [
    {
     "data": {
      "text/plain": [
       "array([[b'1', b'5.1', b'3.5', b'1.4', b'0.2', b'Iris-setosa'],\n",
       "       [b'2', b'4.9', b'3.0', b'1.4', b'0.2', b'Iris-setosa'],\n",
       "       [b'3', b'4.7', b'3.2', b'1.3', b'0.2', b'Iris-setosa'],\n",
       "       ...,\n",
       "       [b'148', b'6.5', b'3.0', b'5.2', b'2.0', b'Iris-virginica'],\n",
       "       [b'149', b'6.2', b'3.4', b'5.4', b'2.3', b'Iris-virginica'],\n",
       "       [b'150', b'5.9', b'3.0', b'5.1', b'1.8', b'Iris-virginica']],\n",
       "      dtype=object)"
      ]
     },
     "execution_count": 26,
     "metadata": {},
     "output_type": "execute_result"
    }
   ],
   "source": [
    "# Question: Import the iris dataset keeping the text intact.\n",
    "\n",
    "# Solution:\n",
    "iris_data = np.genfromtxt('../input/iris/Iris.csv', delimiter=',', skip_header=1, \n",
    "                          usecols = [0,1,2,3,4,5], dtype = object)\n",
    "iris_data"
   ]
  },
  {
   "cell_type": "markdown",
   "metadata": {
    "papermill": {
     "duration": 0.093962,
     "end_time": "2024-05-08T08:55:50.545556",
     "exception": false,
     "start_time": "2024-05-08T08:55:50.451594",
     "status": "completed"
    },
    "tags": []
   },
   "source": [
    "<a id='26'></a>\n",
    "### *Exercise 26*. How to extract a particular column from 1D array of tuples?\n",
    "<a href=\"#top\" class=\"btn btn-primary btn-sm\" role=\"button\" aria-pressed=\"true\" style=\"color:white\" data-toggle=\"popover\">Go to TOC</a>"
   ]
  },
  {
   "cell_type": "code",
   "execution_count": 27,
   "metadata": {
    "execution": {
     "iopub.execute_input": "2024-05-08T08:55:50.745247Z",
     "iopub.status.busy": "2024-05-08T08:55:50.744456Z",
     "iopub.status.idle": "2024-05-08T08:55:50.755398Z",
     "shell.execute_reply": "2024-05-08T08:55:50.755998Z"
    },
    "papermill": {
     "duration": 0.112279,
     "end_time": "2024-05-08T08:55:50.756185",
     "exception": false,
     "start_time": "2024-05-08T08:55:50.643906",
     "status": "completed"
    },
    "tags": []
   },
   "outputs": [
    {
     "data": {
      "text/plain": [
       "array([b'Iris-setosa', b'Iris-setosa', b'Iris-setosa', ...,\n",
       "       b'Iris-virginica', b'Iris-virginica', b'Iris-virginica'],\n",
       "      dtype=object)"
      ]
     },
     "execution_count": 27,
     "metadata": {},
     "output_type": "execute_result"
    }
   ],
   "source": [
    "# Question: Extract the text column species from the 1D iris imported in previous question.\n",
    "\n",
    "data = np.genfromtxt('../input/iris/Iris.csv', delimiter=',', skip_header=1, \n",
    "                          usecols = [-1], dtype = object)\n",
    "data"
   ]
  },
  {
   "cell_type": "markdown",
   "metadata": {
    "papermill": {
     "duration": 0.094185,
     "end_time": "2024-05-08T08:55:50.945307",
     "exception": false,
     "start_time": "2024-05-08T08:55:50.851122",
     "status": "completed"
    },
    "tags": []
   },
   "source": [
    "<a id='27'></a>\n",
    "### *Exercise 27*. How to convert a 1d array of tuples to a 2d numpy array? \n",
    "<a href=\"#top\" class=\"btn btn-primary btn-sm\" role=\"button\" aria-pressed=\"true\" style=\"color:white\" data-toggle=\"popover\">Go to TOC</a>"
   ]
  },
  {
   "cell_type": "code",
   "execution_count": 28,
   "metadata": {
    "execution": {
     "iopub.execute_input": "2024-05-08T08:55:51.138465Z",
     "iopub.status.busy": "2024-05-08T08:55:51.137697Z",
     "iopub.status.idle": "2024-05-08T08:55:51.147475Z",
     "shell.execute_reply": "2024-05-08T08:55:51.148058Z"
    },
    "papermill": {
     "duration": 0.10832,
     "end_time": "2024-05-08T08:55:51.148215",
     "exception": false,
     "start_time": "2024-05-08T08:55:51.039895",
     "status": "completed"
    },
    "tags": []
   },
   "outputs": [
    {
     "data": {
      "text/plain": [
       "array([[  1. ,   5.1,   3.5,   1.4],\n",
       "       [  2. ,   4.9,   3. ,   1.4],\n",
       "       [  3. ,   4.7,   3.2,   1.3],\n",
       "       ...,\n",
       "       [148. ,   6.5,   3. ,   5.2],\n",
       "       [149. ,   6.2,   3.4,   5.4],\n",
       "       [150. ,   5.9,   3. ,   5.1]])"
      ]
     },
     "execution_count": 28,
     "metadata": {},
     "output_type": "execute_result"
    }
   ],
   "source": [
    "# Question: Convert the 1D iris to 2D array iris_2d by omitting the species text field.\n",
    "iris_data = np.genfromtxt('../input/iris/Iris.csv', delimiter=',', skip_header=1, dtype='float', usecols=[0,1,2,3])\n",
    "iris_data"
   ]
  },
  {
   "cell_type": "markdown",
   "metadata": {
    "papermill": {
     "duration": 0.094696,
     "end_time": "2024-05-08T08:55:51.338721",
     "exception": false,
     "start_time": "2024-05-08T08:55:51.244025",
     "status": "completed"
    },
    "tags": []
   },
   "source": [
    "<a id='28'></a>\n",
    "### *Exercise 28*. How to compute the mean, median, standard deviation of a numpy array?\n",
    "<a href=\"#top\" class=\"btn btn-primary btn-sm\" role=\"button\" aria-pressed=\"true\" style=\"color:white\" data-toggle=\"popover\">Go to TOC</a>"
   ]
  },
  {
   "cell_type": "code",
   "execution_count": 29,
   "metadata": {
    "execution": {
     "iopub.execute_input": "2024-05-08T08:55:51.533522Z",
     "iopub.status.busy": "2024-05-08T08:55:51.532711Z",
     "iopub.status.idle": "2024-05-08T08:55:51.545894Z",
     "shell.execute_reply": "2024-05-08T08:55:51.545177Z"
    },
    "papermill": {
     "duration": 0.111818,
     "end_time": "2024-05-08T08:55:51.546042",
     "exception": false,
     "start_time": "2024-05-08T08:55:51.434224",
     "status": "completed"
    },
    "tags": []
   },
   "outputs": [
    {
     "name": "stdout",
     "output_type": "stream",
     "text": [
      "Mean 5.843333333333334\n",
      "Median 5.8\n",
      "Standard Deviation 0.8253012917851409\n"
     ]
    }
   ],
   "source": [
    "# Question: Find the mean, median, standard deviation of iris's sepallength (1st column)\n",
    "\n",
    "iris_data = np.genfromtxt('../input/iris/Iris.csv', delimiter=',', skip_header=1, usecols = [1])\n",
    "\n",
    "print('Mean', np.mean(iris_data))\n",
    "print('Median', np.median(iris_data))\n",
    "print('Standard Deviation', np.std(iris_data))"
   ]
  },
  {
   "cell_type": "markdown",
   "metadata": {
    "papermill": {
     "duration": 0.095664,
     "end_time": "2024-05-08T08:55:51.739078",
     "exception": false,
     "start_time": "2024-05-08T08:55:51.643414",
     "status": "completed"
    },
    "tags": []
   },
   "source": [
    "<a id='29'></a>\n",
    "### *Exercise 29*. How to normalize an array so the values range exactly between 0 and 1?\n",
    "<a href=\"#top\" class=\"btn btn-primary btn-sm\" role=\"button\" aria-pressed=\"true\" style=\"color:white\" data-toggle=\"popover\">Go to TOC</a>"
   ]
  },
  {
   "cell_type": "code",
   "execution_count": 30,
   "metadata": {
    "execution": {
     "iopub.execute_input": "2024-05-08T08:55:51.936556Z",
     "iopub.status.busy": "2024-05-08T08:55:51.935497Z",
     "iopub.status.idle": "2024-05-08T08:55:51.946074Z",
     "shell.execute_reply": "2024-05-08T08:55:51.946645Z"
    },
    "papermill": {
     "duration": 0.110244,
     "end_time": "2024-05-08T08:55:51.946814",
     "exception": false,
     "start_time": "2024-05-08T08:55:51.836570",
     "status": "completed"
    },
    "tags": []
   },
   "outputs": [
    {
     "data": {
      "text/plain": [
       "array([0.222, 0.167, 0.111, ..., 0.611, 0.528, 0.444])"
      ]
     },
     "execution_count": 30,
     "metadata": {},
     "output_type": "execute_result"
    }
   ],
   "source": [
    "# Question: Create a normalized form of iris's sepallength whose values range exactly between 0 and 1 so that the minimum has value 0 and maximum has value 1.\n",
    "\n",
    "# Solution\n",
    "\n",
    "iris_data = np.genfromtxt('../input/iris/Iris.csv', delimiter=',', dtype='float', usecols=[1], skip_header=1)\n",
    "\n",
    "(iris_data - np.min(iris_data))/(np.max(iris_data) - np.min(iris_data))"
   ]
  },
  {
   "cell_type": "markdown",
   "metadata": {
    "papermill": {
     "duration": 0.096886,
     "end_time": "2024-05-08T08:55:52.141124",
     "exception": false,
     "start_time": "2024-05-08T08:55:52.044238",
     "status": "completed"
    },
    "tags": []
   },
   "source": [
    "<a id='30'></a>\n",
    "### *Exercise 30*. How to compute the softmax score?\n",
    "<a href=\"#top\" class=\"btn btn-primary btn-sm\" role=\"button\" aria-pressed=\"true\" style=\"color:white\" data-toggle=\"popover\">Go to TOC</a>"
   ]
  },
  {
   "cell_type": "code",
   "execution_count": 31,
   "metadata": {
    "execution": {
     "iopub.execute_input": "2024-05-08T08:55:52.341011Z",
     "iopub.status.busy": "2024-05-08T08:55:52.339525Z",
     "iopub.status.idle": "2024-05-08T08:55:52.353782Z",
     "shell.execute_reply": "2024-05-08T08:55:52.354355Z"
    },
    "papermill": {
     "duration": 0.116315,
     "end_time": "2024-05-08T08:55:52.354541",
     "exception": false,
     "start_time": "2024-05-08T08:55:52.238226",
     "status": "completed"
    },
    "tags": []
   },
   "outputs": [
    {
     "data": {
      "text/plain": [
       "0.9999999999999997"
      ]
     },
     "execution_count": 31,
     "metadata": {},
     "output_type": "execute_result"
    },
    {
     "data": {
      "text/plain": [
       "array([0.002, 0.002, 0.001, ..., 0.009, 0.007, 0.005])"
      ]
     },
     "execution_count": 31,
     "metadata": {},
     "output_type": "execute_result"
    }
   ],
   "source": [
    "# Question: Compute the softmax score of sepallength.\n",
    "\n",
    "iris_data = np.genfromtxt('../input/iris/Iris.csv', delimiter=',', dtype='float', usecols=[1], skip_header=1)\n",
    "softmax = np.exp(iris_data)/sum(np.exp(iris_data))\n",
    "softmax.sum() # it must sum 1\n",
    "softmax"
   ]
  },
  {
   "cell_type": "markdown",
   "metadata": {
    "papermill": {
     "duration": 0.102473,
     "end_time": "2024-05-08T08:55:52.556289",
     "exception": false,
     "start_time": "2024-05-08T08:55:52.453816",
     "status": "completed"
    },
    "tags": []
   },
   "source": [
    "<a id='31'></a>\n",
    "### *Exercise 31*. How to find the percentile scores of a numpy array?\n",
    "<a href=\"#top\" class=\"btn btn-primary btn-sm\" role=\"button\" aria-pressed=\"true\" style=\"color:white\" data-toggle=\"popover\">Go to TOC</a>"
   ]
  },
  {
   "cell_type": "code",
   "execution_count": 32,
   "metadata": {
    "execution": {
     "iopub.execute_input": "2024-05-08T08:55:52.787216Z",
     "iopub.status.busy": "2024-05-08T08:55:52.786379Z",
     "iopub.status.idle": "2024-05-08T08:55:52.793247Z",
     "shell.execute_reply": "2024-05-08T08:55:52.793990Z"
    },
    "papermill": {
     "duration": 0.121008,
     "end_time": "2024-05-08T08:55:52.794149",
     "exception": false,
     "start_time": "2024-05-08T08:55:52.673141",
     "status": "completed"
    },
    "tags": []
   },
   "outputs": [
    {
     "data": {
      "text/plain": [
       "array([4.6  , 7.255])"
      ]
     },
     "execution_count": 32,
     "metadata": {},
     "output_type": "execute_result"
    }
   ],
   "source": [
    "# Question. Find the 5th and 95th percentile of iris's sepallength\n",
    "iris_data = np.genfromtxt('../input/iris/Iris.csv', delimiter=',', dtype='float', usecols=[1], skip_header=1)\n",
    "\n",
    "np.percentile(iris_data, q=[5, 95])"
   ]
  },
  {
   "cell_type": "markdown",
   "metadata": {
    "papermill": {
     "duration": 0.097712,
     "end_time": "2024-05-08T08:55:52.990721",
     "exception": false,
     "start_time": "2024-05-08T08:55:52.893009",
     "status": "completed"
    },
    "tags": []
   },
   "source": [
    "<a id='32'></a>\n",
    "### *Exercise 32*. How to insert values at random positions in an array?\n",
    "<a href=\"#top\" class=\"btn btn-primary btn-sm\" role=\"button\" aria-pressed=\"true\" style=\"color:white\" data-toggle=\"popover\">Go to TOC</a>"
   ]
  },
  {
   "cell_type": "code",
   "execution_count": 33,
   "metadata": {
    "execution": {
     "iopub.execute_input": "2024-05-08T08:55:53.190820Z",
     "iopub.status.busy": "2024-05-08T08:55:53.190079Z",
     "iopub.status.idle": "2024-05-08T08:55:53.203726Z",
     "shell.execute_reply": "2024-05-08T08:55:53.204502Z"
    },
    "papermill": {
     "duration": 0.115646,
     "end_time": "2024-05-08T08:55:53.204699",
     "exception": false,
     "start_time": "2024-05-08T08:55:53.089053",
     "status": "completed"
    },
    "tags": []
   },
   "outputs": [
    {
     "data": {
      "text/plain": [
       "array([[5.1, 3.5, 1.4, 0.2],\n",
       "       [4.9, 3. , 1.4, 0.2],\n",
       "       [4.7, 3.2, 1.3, 0.2],\n",
       "       ...,\n",
       "       [6.5, 3. , 5.2, 2. ],\n",
       "       [6.2, 3.4, 5.4, 2.3],\n",
       "       [5.9, 3. , 5.1, 1.8]])"
      ]
     },
     "execution_count": 33,
     "metadata": {},
     "output_type": "execute_result"
    }
   ],
   "source": [
    "# Question: Insert np.nan values at 20 random positions in iris_2d dataset\n",
    "\n",
    "# Solution\n",
    "iris_data = np.genfromtxt('../input/iris/Iris.csv', delimiter=',', dtype='float', usecols=[1,2,3,4], skip_header=1)\n",
    "for i in np.random.randint(0, len(iris_data), 20):\n",
    "    iris_data[i]=np.nan\n",
    "iris_data"
   ]
  },
  {
   "cell_type": "markdown",
   "metadata": {
    "papermill": {
     "duration": 0.099927,
     "end_time": "2024-05-08T08:55:53.405718",
     "exception": false,
     "start_time": "2024-05-08T08:55:53.305791",
     "status": "completed"
    },
    "tags": []
   },
   "source": [
    "<a id='33'></a>\n",
    "### *Exercise 33*. How to find the position of missing values in numpy array?\n",
    "<a href=\"#top\" class=\"btn btn-primary btn-sm\" role=\"button\" aria-pressed=\"true\" style=\"color:white\" data-toggle=\"popover\">Go to TOC</a>"
   ]
  },
  {
   "cell_type": "code",
   "execution_count": 34,
   "metadata": {
    "execution": {
     "iopub.execute_input": "2024-05-08T08:55:53.613582Z",
     "iopub.status.busy": "2024-05-08T08:55:53.612514Z",
     "iopub.status.idle": "2024-05-08T08:55:53.628443Z",
     "shell.execute_reply": "2024-05-08T08:55:53.629091Z"
    },
    "papermill": {
     "duration": 0.122538,
     "end_time": "2024-05-08T08:55:53.629255",
     "exception": false,
     "start_time": "2024-05-08T08:55:53.506717",
     "status": "completed"
    },
    "tags": []
   },
   "outputs": [
    {
     "name": "stdout",
     "output_type": "stream",
     "text": [
      "Number of missing values in Iris data: \n",
      " 20\n",
      "Number of missing values in any one feature of Iris data: \n",
      " 5\n",
      "Position of missing values: \n",
      " (array([ 38,  80, 106, 113, 121]),)\n"
     ]
    }
   ],
   "source": [
    "# Question: Find the number and position of missing values in iris_2d's sepallength (1st column)\n",
    "\n",
    "iris_data = np.genfromtxt('../input/iris/Iris.csv', delimiter=',', dtype='float', usecols=[1,2,3,4], skip_header=1)\n",
    "iris_data[np.random.randint(len(iris_data), size=20),np.random.randint(4,size=20)] = np.nan\n",
    "\n",
    "# Find total mising value in complete data\n",
    "print(\"Number of missing values in Iris data: \\n\", np.isnan(iris_data[:, :]).sum())\n",
    "\n",
    "# Find total mising value in 1D data\n",
    "print(\"Number of missing values in any one feature of Iris data: \\n\", np.isnan(iris_data[:, 0]).sum())\n",
    "\n",
    "print(\"Position of missing values: \\n\", np.where(np.isnan(iris_data[:, 0])))"
   ]
  },
  {
   "cell_type": "markdown",
   "metadata": {
    "papermill": {
     "duration": 0.102392,
     "end_time": "2024-05-08T08:55:53.833154",
     "exception": false,
     "start_time": "2024-05-08T08:55:53.730762",
     "status": "completed"
    },
    "tags": []
   },
   "source": [
    "<a id='34'></a>\n",
    "### *Exercise 34*. How to filter a numpy array based on two or more conditions?\n",
    "<a href=\"#top\" class=\"btn btn-primary btn-sm\" role=\"button\" aria-pressed=\"true\" style=\"color:white\" data-toggle=\"popover\">Go to TOC</a>"
   ]
  },
  {
   "cell_type": "code",
   "execution_count": 35,
   "metadata": {
    "execution": {
     "iopub.execute_input": "2024-05-08T08:55:54.038007Z",
     "iopub.status.busy": "2024-05-08T08:55:54.037218Z",
     "iopub.status.idle": "2024-05-08T08:55:54.049634Z",
     "shell.execute_reply": "2024-05-08T08:55:54.050263Z"
    },
    "papermill": {
     "duration": 0.117096,
     "end_time": "2024-05-08T08:55:54.050446",
     "exception": false,
     "start_time": "2024-05-08T08:55:53.933350",
     "status": "completed"
    },
    "tags": []
   },
   "outputs": [
    {
     "data": {
      "text/plain": [
       "array([[4.8, 3.4, 1.6, 0.2],\n",
       "       [4.8, 3.4, 1.9, 0.2],\n",
       "       [4.7, 3.2, 1.6, 0.2],\n",
       "       [4.8, 3.1, 1.6, 0.2],\n",
       "       [4.9, 2.4, 3.3, 1. ],\n",
       "       [4.9, 2.5, 4.5, 1.7]])"
      ]
     },
     "execution_count": 35,
     "metadata": {},
     "output_type": "execute_result"
    }
   ],
   "source": [
    "# Question: Filter the rows of iris_2d that has petallength (3rd column) > 1.5 and sepallength (1st column) < 5.0\n",
    "\n",
    "iris_data = np.genfromtxt('../input/iris/Iris.csv', delimiter=',', dtype='float', usecols=[1,2,3,4], skip_header=1)\n",
    "\n",
    "# Solution\n",
    "iris_data[(iris_data[:, 2] > 1.5) & (iris_data[:, 0] < 5.0)]"
   ]
  },
  {
   "cell_type": "markdown",
   "metadata": {
    "papermill": {
     "duration": 0.099673,
     "end_time": "2024-05-08T08:55:54.250485",
     "exception": false,
     "start_time": "2024-05-08T08:55:54.150812",
     "status": "completed"
    },
    "tags": []
   },
   "source": [
    "<a id='35'></a>\n",
    "### *Exercise 35*. How to drop rows that contain a missing value from a numpy array?\n",
    "<a href=\"#top\" class=\"btn btn-primary btn-sm\" role=\"button\" aria-pressed=\"true\" style=\"color:white\" data-toggle=\"popover\">Go to TOC</a>"
   ]
  },
  {
   "cell_type": "code",
   "execution_count": 36,
   "metadata": {
    "execution": {
     "iopub.execute_input": "2024-05-08T08:55:54.460460Z",
     "iopub.status.busy": "2024-05-08T08:55:54.459638Z",
     "iopub.status.idle": "2024-05-08T08:55:54.488655Z",
     "shell.execute_reply": "2024-05-08T08:55:54.489294Z"
    },
    "papermill": {
     "duration": 0.138013,
     "end_time": "2024-05-08T08:55:54.489481",
     "exception": false,
     "start_time": "2024-05-08T08:55:54.351468",
     "status": "completed"
    },
    "tags": []
   },
   "outputs": [
    {
     "data": {
      "text/plain": [
       "array([[  1.   ,  85.   ,  66.   , ...,  26.6  ,   0.351,  31.   ],\n",
       "       [  8.   , 183.   ,  64.   , ...,  23.3  ,   0.672,  32.   ],\n",
       "       [  1.   ,  89.   ,  66.   , ...,  28.1  ,   0.167,  21.   ],\n",
       "       [  0.   , 137.   ,  40.   , ...,  43.1  ,   2.288,  33.   ],\n",
       "       [  3.   ,  78.   ,  50.   , ...,  31.   ,   0.248,  26.   ]])"
      ]
     },
     "execution_count": 36,
     "metadata": {},
     "output_type": "execute_result"
    }
   ],
   "source": [
    "# Question: Select the rows of iris_2d that does not have any nan value.\n",
    "\n",
    "diabetes_data = np.genfromtxt('../input/pima-indians-diabetes-database/diabetes.csv', delimiter=',', dtype='float', usecols=[0,1,2,3,4,5,6,7], skip_header=1)\n",
    "diabetes_data[np.random.randint(150, size=20), np.random.randint(4, size=20)] = np.nan\n",
    "diabetes_data[np.sum(np.isnan(diabetes_data), axis = 1) == 0][:5]"
   ]
  },
  {
   "cell_type": "markdown",
   "metadata": {
    "papermill": {
     "duration": 0.103542,
     "end_time": "2024-05-08T08:55:54.696084",
     "exception": false,
     "start_time": "2024-05-08T08:55:54.592542",
     "status": "completed"
    },
    "tags": []
   },
   "source": [
    "<a id='36'></a>\n",
    "### *Exercise 36*. How to find the correlation between two columns of a numpy array?\n",
    "<a href=\"#top\" class=\"btn btn-primary btn-sm\" role=\"button\" aria-pressed=\"true\" style=\"color:white\" data-toggle=\"popover\">Go to TOC</a>"
   ]
  },
  {
   "cell_type": "code",
   "execution_count": 37,
   "metadata": {
    "execution": {
     "iopub.execute_input": "2024-05-08T08:55:54.905904Z",
     "iopub.status.busy": "2024-05-08T08:55:54.905103Z",
     "iopub.status.idle": "2024-05-08T08:55:54.963143Z",
     "shell.execute_reply": "2024-05-08T08:55:54.962342Z"
    },
    "papermill": {
     "duration": 0.162251,
     "end_time": "2024-05-08T08:55:54.963281",
     "exception": false,
     "start_time": "2024-05-08T08:55:54.801030",
     "status": "completed"
    },
    "tags": []
   },
   "outputs": [
    {
     "name": "stdout",
     "output_type": "stream",
     "text": [
      "[[1.    0.221]\n",
      " [0.221 1.   ]]\n",
      "\n",
      "\n",
      "0.221071069458983\n"
     ]
    }
   ],
   "source": [
    "# question: Find the correlation between SepalLength(1st column) and PetalLength(3rd column) in iris_2d\n",
    "# insted or using iris data I am going to used pima diabetes data and going to find corelation between BP(1st column) and BMI (5th column).\n",
    "\n",
    "diabetes_data = np.genfromtxt('../input/pima-indians-diabetes-database/diabetes.csv',\n",
    "                              delimiter=',', dtype='float', usecols=[0,1,2,3,4,5,6,7], skip_header=1)\n",
    "\n",
    "print(np.corrcoef(diabetes_data[:, 1], diabetes_data[:, 5]))\n",
    "\n",
    "print('\\n')\n",
    "# you can get correlation by getting value at index [0,1] or [1,0]\n",
    "print(np.corrcoef(diabetes_data[:, 1], diabetes_data[:, 5])[0,1])"
   ]
  },
  {
   "cell_type": "markdown",
   "metadata": {
    "papermill": {
     "duration": 0.100778,
     "end_time": "2024-05-08T08:55:55.165722",
     "exception": false,
     "start_time": "2024-05-08T08:55:55.064944",
     "status": "completed"
    },
    "tags": []
   },
   "source": [
    "<a id='37'></a>\n",
    "### *Exercise 37*. How to find if a given array has any null values?\n",
    "<a href=\"#top\" class=\"btn btn-primary btn-sm\" role=\"button\" aria-pressed=\"true\" style=\"color:white\" data-toggle=\"popover\">Go to TOC</a>"
   ]
  },
  {
   "cell_type": "code",
   "execution_count": 38,
   "metadata": {
    "execution": {
     "iopub.execute_input": "2024-05-08T08:55:55.374650Z",
     "iopub.status.busy": "2024-05-08T08:55:55.373872Z",
     "iopub.status.idle": "2024-05-08T08:55:55.394663Z",
     "shell.execute_reply": "2024-05-08T08:55:55.395300Z"
    },
    "papermill": {
     "duration": 0.128827,
     "end_time": "2024-05-08T08:55:55.395480",
     "exception": false,
     "start_time": "2024-05-08T08:55:55.266653",
     "status": "completed"
    },
    "tags": []
   },
   "outputs": [
    {
     "data": {
      "text/plain": [
       "False"
      ]
     },
     "execution_count": 38,
     "metadata": {},
     "output_type": "execute_result"
    }
   ],
   "source": [
    "# question: Find out if iris_2d has any missing values.\n",
    "diabetes_data = np.genfromtxt('../input/pima-indians-diabetes-database/diabetes.csv',\n",
    "                              delimiter=',', dtype='float', usecols=[0,1,2,3,4,5,6,7], skip_header=1)\n",
    "\n",
    "np.isnan(diabetes_data).any()"
   ]
  },
  {
   "cell_type": "markdown",
   "metadata": {
    "papermill": {
     "duration": 0.102328,
     "end_time": "2024-05-08T08:55:55.599744",
     "exception": false,
     "start_time": "2024-05-08T08:55:55.497416",
     "status": "completed"
    },
    "tags": []
   },
   "source": [
    "<a id='38'></a>\n",
    "### *Exercise 38*. How to replace all missing values with 0 in a numpy array?\n",
    "<a href=\"#top\" class=\"btn btn-primary btn-sm\" role=\"button\" aria-pressed=\"true\" style=\"color:white\" data-toggle=\"popover\">Go to TOC</a>"
   ]
  },
  {
   "cell_type": "code",
   "execution_count": 39,
   "metadata": {
    "execution": {
     "iopub.execute_input": "2024-05-08T08:55:55.813476Z",
     "iopub.status.busy": "2024-05-08T08:55:55.812685Z",
     "iopub.status.idle": "2024-05-08T08:55:55.860708Z",
     "shell.execute_reply": "2024-05-08T08:55:55.859902Z"
    },
    "papermill": {
     "duration": 0.154574,
     "end_time": "2024-05-08T08:55:55.860842",
     "exception": false,
     "start_time": "2024-05-08T08:55:55.706268",
     "status": "completed"
    },
    "tags": []
   },
   "outputs": [
    {
     "name": "stdout",
     "output_type": "stream",
     "text": [
      "Does dataset have any Nan value: True\n",
      "Does dataset have any Nan value: False\n"
     ]
    }
   ],
   "source": [
    "# Question: Replace all ccurrences of nan with 0 in numpy array\n",
    "\n",
    "wine_quality = np.genfromtxt('../input/red-wine-quality-cortez-et-al-2009/winequality-red.csv',\n",
    "                             delimiter=',', dtype='float', usecols=[0,1,2,3,4,5,6,7,8,9,10], skip_header=1)\n",
    "\n",
    "wine_quality[np.random.randint(len(wine_quality), size=20), np.random.randint(11, size=20)] = np.nan\n",
    "\n",
    "print(\"Does dataset have any Nan value:\",np.isnan(wine_quality).any())\n",
    "\n",
    "wine_quality[np.isnan(wine_quality)] = 0\n",
    "\n",
    "print(\"Does dataset have any Nan value:\",np.isnan(wine_quality).any())"
   ]
  },
  {
   "cell_type": "markdown",
   "metadata": {
    "papermill": {
     "duration": 0.103894,
     "end_time": "2024-05-08T08:55:56.071707",
     "exception": false,
     "start_time": "2024-05-08T08:55:55.967813",
     "status": "completed"
    },
    "tags": []
   },
   "source": [
    "<a id='39'></a>\n",
    "### *Exercise 39*. How to find the count of unique values in a numpy array?\n",
    "\n",
    "<a href=\"#top\" class=\"btn btn-primary btn-sm\" role=\"button\" aria-pressed=\"true\" style=\"color:white\" data-toggle=\"popover\">Go to TOC</a>"
   ]
  },
  {
   "cell_type": "code",
   "execution_count": 40,
   "metadata": {
    "execution": {
     "iopub.execute_input": "2024-05-08T08:55:56.280703Z",
     "iopub.status.busy": "2024-05-08T08:55:56.279904Z",
     "iopub.status.idle": "2024-05-08T08:55:56.417467Z",
     "shell.execute_reply": "2024-05-08T08:55:56.418199Z"
    },
    "papermill": {
     "duration": 0.243821,
     "end_time": "2024-05-08T08:55:56.418369",
     "exception": false,
     "start_time": "2024-05-08T08:55:56.174548",
     "status": "completed"
    },
    "tags": []
   },
   "outputs": [
    {
     "data": {
      "text/plain": [
       "(array([b'e', b'p'], dtype=object), array([4208, 3916]))"
      ]
     },
     "execution_count": 40,
     "metadata": {},
     "output_type": "execute_result"
    }
   ],
   "source": [
    "# Question: Find the unique values and the count of unique values in mashroom data's habitat (22 column) column\n",
    "\n",
    "mushroom = np.genfromtxt('../input/mushroom-classification/mushrooms.csv',\n",
    "                             delimiter=',', dtype=object, usecols=[0], skip_header=1)\n",
    "#mushroom\n",
    "np.unique(mushroom, return_counts=True)"
   ]
  },
  {
   "cell_type": "markdown",
   "metadata": {
    "papermill": {
     "duration": 0.106991,
     "end_time": "2024-05-08T08:55:56.631083",
     "exception": false,
     "start_time": "2024-05-08T08:55:56.524092",
     "status": "completed"
    },
    "tags": []
   },
   "source": [
    "<a id='40'></a>\n",
    "### *Exercise 40*. How to convert a numeric to a categorical (text) array?\n",
    "<a href=\"#top\" class=\"btn btn-primary btn-sm\" role=\"button\" aria-pressed=\"true\" style=\"color:white\" data-toggle=\"popover\">Go to TOC</a>"
   ]
  },
  {
   "cell_type": "code",
   "execution_count": 41,
   "metadata": {
    "execution": {
     "iopub.execute_input": "2024-05-08T08:55:56.849339Z",
     "iopub.status.busy": "2024-05-08T08:55:56.848173Z",
     "iopub.status.idle": "2024-05-08T08:55:56.856358Z",
     "shell.execute_reply": "2024-05-08T08:55:56.857096Z"
    },
    "papermill": {
     "duration": 0.120826,
     "end_time": "2024-05-08T08:55:56.857267",
     "exception": false,
     "start_time": "2024-05-08T08:55:56.736441",
     "status": "completed"
    },
    "tags": []
   },
   "outputs": [
    {
     "data": {
      "text/plain": [
       "['small',\n",
       " 'small',\n",
       " 'small',\n",
       " 'small',\n",
       " 'small',\n",
       " 'small',\n",
       " 'small',\n",
       " 'small',\n",
       " 'small',\n",
       " 'small']"
      ]
     },
     "execution_count": 41,
     "metadata": {},
     "output_type": "execute_result"
    }
   ],
   "source": [
    "# Question: Bin the petal length (3rd) column of iris_2d to form a text array, such that if petal length is:\n",
    "\n",
    "# Less than 3 --> 'small'\n",
    "# 3-5 --> 'medium'\n",
    "# >=5 --> 'large'\n",
    "\n",
    "# Solution\n",
    "\n",
    "iris_data = np.genfromtxt('../input/iris/Iris.csv', delimiter=',', dtype=object, usecols=[3], skip_header=1)\n",
    "\n",
    "bins = np.array([0, 3, 5, 7])\n",
    "inds = np.digitize(iris_data.astype('float'), bins)\n",
    "\n",
    "labels = {1:'small', 2: 'medium', 3:'large'}\n",
    "iris_cat_data = [labels[x] for x in inds]\n",
    "iris_cat_data[:10]"
   ]
  },
  {
   "cell_type": "markdown",
   "metadata": {
    "papermill": {
     "duration": 0.10441,
     "end_time": "2024-05-08T08:55:57.067344",
     "exception": false,
     "start_time": "2024-05-08T08:55:56.962934",
     "status": "completed"
    },
    "tags": []
   },
   "source": [
    "<a id='41'></a>\n",
    "### *Exercise 41*. How to create a new column from existing columns of a numpy array?\n",
    "<a href=\"#top\" class=\"btn btn-primary btn-sm\" role=\"button\" aria-pressed=\"true\" style=\"color:white\" data-toggle=\"popover\">Go to TOC</a>"
   ]
  },
  {
   "cell_type": "code",
   "execution_count": 42,
   "metadata": {
    "execution": {
     "iopub.execute_input": "2024-05-08T08:55:57.287186Z",
     "iopub.status.busy": "2024-05-08T08:55:57.286292Z",
     "iopub.status.idle": "2024-05-08T08:55:57.295413Z",
     "shell.execute_reply": "2024-05-08T08:55:57.296070Z"
    },
    "papermill": {
     "duration": 0.125016,
     "end_time": "2024-05-08T08:55:57.296243",
     "exception": false,
     "start_time": "2024-05-08T08:55:57.171227",
     "status": "completed"
    },
    "tags": []
   },
   "outputs": [
    {
     "data": {
      "text/plain": [
       "array([[b'5.1', b'3.5', b'1.4', b'0.2', 38.13265162927291],\n",
       "       [b'4.9', b'3.0', b'1.4', b'0.2', 35.200498485922445],\n",
       "       [b'4.7', b'3.2', b'1.3', b'0.2', 30.0723720777127],\n",
       "       [b'4.6', b'3.1', b'1.5', b'0.2', 33.238050274980004]], dtype=object)"
      ]
     },
     "execution_count": 42,
     "metadata": {},
     "output_type": "execute_result"
    }
   ],
   "source": [
    "# Question: Create a new column for volume in iris_2d, where volume is (pi x petallength x sepal_length^2)/3\n",
    "\n",
    "iris_data = np.genfromtxt('../input/iris/Iris.csv', delimiter=',', \n",
    "                          dtype=object, usecols=[1,2,3,4], skip_header=1)\n",
    "\n",
    "sepallength = iris_data[:, 0].astype('float')\n",
    "petallength = iris_data[:, 2].astype('float')\n",
    "\n",
    "new_column = (np.pi * petallength * (sepallength**2))/3\n",
    "\n",
    "new_column = new_column[:, np.newaxis]\n",
    "#new_column\n",
    "\n",
    "# Add the new column\n",
    "out = np.hstack([iris_data, new_column])\n",
    "\n",
    "# View\n",
    "out[:4]"
   ]
  },
  {
   "cell_type": "markdown",
   "metadata": {
    "papermill": {
     "duration": 0.106112,
     "end_time": "2024-05-08T08:55:57.510585",
     "exception": false,
     "start_time": "2024-05-08T08:55:57.404473",
     "status": "completed"
    },
    "tags": []
   },
   "source": [
    "<a id='42'></a>\n",
    "### *Exercise 42*. How to do probabilistic sampling in numpy?\n",
    "<a href=\"#top\" class=\"btn btn-primary btn-sm\" role=\"button\" aria-pressed=\"true\" style=\"color:white\" data-toggle=\"popover\">Go to TOC</a>"
   ]
  },
  {
   "cell_type": "code",
   "execution_count": 43,
   "metadata": {
    "execution": {
     "iopub.execute_input": "2024-05-08T08:55:57.730760Z",
     "iopub.status.busy": "2024-05-08T08:55:57.729920Z",
     "iopub.status.idle": "2024-05-08T08:55:57.743043Z",
     "shell.execute_reply": "2024-05-08T08:55:57.743749Z"
    },
    "papermill": {
     "duration": 0.125202,
     "end_time": "2024-05-08T08:55:57.743945",
     "exception": false,
     "start_time": "2024-05-08T08:55:57.618743",
     "status": "completed"
    },
    "tags": []
   },
   "outputs": [
    {
     "name": "stdout",
     "output_type": "stream",
     "text": [
      "(array(['Iris-setosa', 'Iris-versicolor', 'Iris-virginica'], dtype='<U15'), array([77, 37, 36]))\n"
     ]
    }
   ],
   "source": [
    "# Question: Randomly sample iris's species such that setose is twice the number of versicolor and virginica\n",
    "\n",
    "iris_data = np.genfromtxt('../input/iris/Iris.csv', delimiter=',', \n",
    "                          dtype=object, usecols=[1,2,3,4,5], skip_header=1)\n",
    "\n",
    "np.random.seed(100)\n",
    "a = np.array(['Iris-setosa', 'Iris-versicolor', 'Iris-virginica'])\n",
    "species_out = np.random.choice(a, 150, p=[0.5, 0.25, 0.25])\n",
    "print(np.unique(species_out, return_counts=True))"
   ]
  },
  {
   "cell_type": "markdown",
   "metadata": {
    "papermill": {
     "duration": 0.107634,
     "end_time": "2024-05-08T08:55:57.957998",
     "exception": false,
     "start_time": "2024-05-08T08:55:57.850364",
     "status": "completed"
    },
    "tags": []
   },
   "source": [
    "<a id='43'></a>\n",
    "### *Exercise 43*. How to get the second largest value of an array when grouped by another array?\n",
    "<a href=\"#top\" class=\"btn btn-primary btn-sm\" role=\"button\" aria-pressed=\"true\" style=\"color:white\" data-toggle=\"popover\">Go to TOC</a>"
   ]
  },
  {
   "cell_type": "code",
   "execution_count": 44,
   "metadata": {
    "execution": {
     "iopub.execute_input": "2024-05-08T08:55:58.181924Z",
     "iopub.status.busy": "2024-05-08T08:55:58.177185Z",
     "iopub.status.idle": "2024-05-08T08:55:58.203466Z",
     "shell.execute_reply": "2024-05-08T08:55:58.204097Z"
    },
    "papermill": {
     "duration": 0.136429,
     "end_time": "2024-05-08T08:55:58.204264",
     "exception": false,
     "start_time": "2024-05-08T08:55:58.067835",
     "status": "completed"
    },
    "tags": []
   },
   "outputs": [
    {
     "data": {
      "text/plain": [
       "110.0"
      ]
     },
     "execution_count": 44,
     "metadata": {},
     "output_type": "execute_result"
    }
   ],
   "source": [
    "# Question: What is the value of second longest petallength of species setosa\n",
    "# For this question I am going to find second highest bloodpressure (2nd column) where outcome is 1\n",
    "diabetes_data = np.genfromtxt('../input/pima-indians-diabetes-database/diabetes.csv',\n",
    "                              delimiter=',', dtype=object, usecols=[0,1,2,3,4,5,6,7,8], skip_header=1)\n",
    "\n",
    "# Solution\n",
    "bloodpressure= diabetes_data[diabetes_data[:, 8]==b'1', [2]].astype('float')\n",
    "\n",
    "np.unique(np.sort(bloodpressure))[-2]"
   ]
  },
  {
   "cell_type": "markdown",
   "metadata": {
    "papermill": {
     "duration": 0.107486,
     "end_time": "2024-05-08T08:55:58.419754",
     "exception": false,
     "start_time": "2024-05-08T08:55:58.312268",
     "status": "completed"
    },
    "tags": []
   },
   "source": [
    "<a id='44'></a>\n",
    "### *Exercise 44*. How to sort a 2D array by a column\n",
    "<a href=\"#top\" class=\"btn btn-primary btn-sm\" role=\"button\" aria-pressed=\"true\" style=\"color:white\" data-toggle=\"popover\">Go to TOC</a>"
   ]
  },
  {
   "cell_type": "code",
   "execution_count": 45,
   "metadata": {
    "execution": {
     "iopub.execute_input": "2024-05-08T08:55:58.640931Z",
     "iopub.status.busy": "2024-05-08T08:55:58.640103Z",
     "iopub.status.idle": "2024-05-08T08:55:58.666304Z",
     "shell.execute_reply": "2024-05-08T08:55:58.667012Z"
    },
    "papermill": {
     "duration": 0.140417,
     "end_time": "2024-05-08T08:55:58.667191",
     "exception": false,
     "start_time": "2024-05-08T08:55:58.526774",
     "status": "completed"
    },
    "tags": []
   },
   "outputs": [
    {
     "data": {
      "text/plain": [
       "array([[b'1', b'0', b'74', ..., b'0.299', b'21', b'0'],\n",
       "       [b'5', b'0', b'80', ..., b'0.346', b'37', b'1'],\n",
       "       [b'1', b'0', b'68', ..., b'0.389', b'22', b'0'],\n",
       "       ...,\n",
       "       [b'4', b'99', b'72', ..., b'0.294', b'28', b'0'],\n",
       "       [b'4', b'99', b'76', ..., b'0.223', b'21', b'0'],\n",
       "       [b'2', b'99', b'60', ..., b'0.453', b'21', b'0']], dtype=object)"
      ]
     },
     "execution_count": 45,
     "metadata": {},
     "output_type": "execute_result"
    }
   ],
   "source": [
    "# Question: Sort the iris dataset based on sepallength column.\n",
    "# In this problem, I am going to sort the diabetes dataset based on Glucose (1th column)\n",
    "diabetes_data = np.genfromtxt('../input/pima-indians-diabetes-database/diabetes.csv',\n",
    "                              delimiter=',', dtype=object, usecols=[0,1,2,3,4,5,6,7,8], skip_header=1)\n",
    "\n",
    "diabetes_data[diabetes_data[:,1].argsort()]"
   ]
  },
  {
   "cell_type": "markdown",
   "metadata": {
    "papermill": {
     "duration": 0.107191,
     "end_time": "2024-05-08T08:55:58.883167",
     "exception": false,
     "start_time": "2024-05-08T08:55:58.775976",
     "status": "completed"
    },
    "tags": []
   },
   "source": [
    "<a id='45'></a>\n",
    "### *Exercise 45*. How to find the most frequent value in a numpy array?\n",
    "<a href=\"#top\" class=\"btn btn-primary btn-sm\" role=\"button\" aria-pressed=\"true\" style=\"color:white\" data-toggle=\"popover\">Go to TOC</a>"
   ]
  },
  {
   "cell_type": "code",
   "execution_count": 46,
   "metadata": {
    "execution": {
     "iopub.execute_input": "2024-05-08T08:55:59.101326Z",
     "iopub.status.busy": "2024-05-08T08:55:59.100574Z",
     "iopub.status.idle": "2024-05-08T08:55:59.112956Z",
     "shell.execute_reply": "2024-05-08T08:55:59.113549Z"
    },
    "papermill": {
     "duration": 0.12449,
     "end_time": "2024-05-08T08:55:59.113729",
     "exception": false,
     "start_time": "2024-05-08T08:55:58.989239",
     "status": "completed"
    },
    "tags": []
   },
   "outputs": [
    {
     "data": {
      "text/plain": [
       "b'1.5'"
      ]
     },
     "execution_count": 46,
     "metadata": {},
     "output_type": "execute_result"
    }
   ],
   "source": [
    "# Question: Find the most frequent value of petal length (3rd column) in iris dataset.\n",
    "\n",
    "iris_data = np.genfromtxt('../input/iris/Iris.csv', delimiter=',', \n",
    "                          dtype=object, usecols=[1,2,3,4,5], skip_header=1)\n",
    "\n",
    "v,c = np.unique(iris_data[:, 2], return_counts=True)\n",
    "v[np.argmax(c)]"
   ]
  },
  {
   "cell_type": "markdown",
   "metadata": {
    "papermill": {
     "duration": 0.109175,
     "end_time": "2024-05-08T08:55:59.331343",
     "exception": false,
     "start_time": "2024-05-08T08:55:59.222168",
     "status": "completed"
    },
    "tags": []
   },
   "source": [
    "<a id='46'></a>\n",
    "### *Exercise 46*. How to find the position of the first occurrence of a value greater than a given value?\n",
    "<a href=\"#top\" class=\"btn btn-primary btn-sm\" role=\"button\" aria-pressed=\"true\" style=\"color:white\" data-toggle=\"popover\">Go to TOC</a>"
   ]
  },
  {
   "cell_type": "code",
   "execution_count": 47,
   "metadata": {
    "execution": {
     "iopub.execute_input": "2024-05-08T08:55:59.554975Z",
     "iopub.status.busy": "2024-05-08T08:55:59.554090Z",
     "iopub.status.idle": "2024-05-08T08:55:59.562347Z",
     "shell.execute_reply": "2024-05-08T08:55:59.563110Z"
    },
    "papermill": {
     "duration": 0.123509,
     "end_time": "2024-05-08T08:55:59.563280",
     "exception": false,
     "start_time": "2024-05-08T08:55:59.439771",
     "status": "completed"
    },
    "tags": []
   },
   "outputs": [
    {
     "data": {
      "text/plain": [
       "array([50])"
      ]
     },
     "execution_count": 47,
     "metadata": {},
     "output_type": "execute_result"
    }
   ],
   "source": [
    "# Question: Find the position of the first occurrence of a value greater than 1.0 in \n",
    "# petalwidth 4th column of iris dataset.\n",
    "iris_data = np.genfromtxt('../input/iris/Iris.csv', delimiter=',', \n",
    "                          dtype=object, usecols=[4], skip_header=1)\n",
    "\n",
    "np.argwhere(iris_data[:].astype(float) > 1.0)[0]"
   ]
  },
  {
   "cell_type": "markdown",
   "metadata": {
    "papermill": {
     "duration": 0.109314,
     "end_time": "2024-05-08T08:55:59.785505",
     "exception": false,
     "start_time": "2024-05-08T08:55:59.676191",
     "status": "completed"
    },
    "tags": []
   },
   "source": [
    "<a id='47'></a>\n",
    "### *Exercise 47*. How to replace all values greater than a given value to a given cutoff?\n",
    "<a href=\"#top\" class=\"btn btn-primary btn-sm\" role=\"button\" aria-pressed=\"true\" style=\"color:white\" data-toggle=\"popover\">Go to TOC</a>"
   ]
  },
  {
   "cell_type": "code",
   "execution_count": 48,
   "metadata": {
    "execution": {
     "iopub.execute_input": "2024-05-08T08:56:00.006809Z",
     "iopub.status.busy": "2024-05-08T08:56:00.006048Z",
     "iopub.status.idle": "2024-05-08T08:56:00.016610Z",
     "shell.execute_reply": "2024-05-08T08:56:00.015977Z"
    },
    "papermill": {
     "duration": 0.12171,
     "end_time": "2024-05-08T08:56:00.016748",
     "exception": false,
     "start_time": "2024-05-08T08:55:59.895038",
     "status": "completed"
    },
    "tags": []
   },
   "outputs": [
    {
     "data": {
      "text/plain": [
       "array([27.63, 14.64, 21.8 , 30.  , 10.  , 10.  , 30.  , 30.  , 10.  ,\n",
       "       29.18, 30.  , 11.25, 10.08, 10.  , 11.77, 30.  , 30.  , 10.  ,\n",
       "       30.  , 14.43])"
      ]
     },
     "execution_count": 48,
     "metadata": {},
     "output_type": "execute_result"
    }
   ],
   "source": [
    "# Question: From the array a, replace all values greater than 30 to 30 and less than 10 to 10.\n",
    "\n",
    "# Solution\n",
    "\n",
    "np.set_printoptions(precision=2)\n",
    "np.random.seed(100)\n",
    "a = np.random.uniform(1,50, 20)\n",
    "\n",
    "a[a<10]=10\n",
    "a[a>30]=30\n",
    "np.set_printoptions(threshold=20)\n",
    "a"
   ]
  },
  {
   "cell_type": "markdown",
   "metadata": {
    "papermill": {
     "duration": 0.107433,
     "end_time": "2024-05-08T08:56:00.233552",
     "exception": false,
     "start_time": "2024-05-08T08:56:00.126119",
     "status": "completed"
    },
    "tags": []
   },
   "source": [
    "<a id='48'></a>\n",
    "### *Exercise 48*. How to get the positions of top n values from a numpy array?\n",
    "<a href=\"#top\" class=\"btn btn-primary btn-sm\" role=\"button\" aria-pressed=\"true\" style=\"color:white\" data-toggle=\"popover\">Go to TOC</a>"
   ]
  },
  {
   "cell_type": "code",
   "execution_count": 49,
   "metadata": {
    "execution": {
     "iopub.execute_input": "2024-05-08T08:56:00.456240Z",
     "iopub.status.busy": "2024-05-08T08:56:00.455471Z",
     "iopub.status.idle": "2024-05-08T08:56:00.473644Z",
     "shell.execute_reply": "2024-05-08T08:56:00.473045Z"
    },
    "papermill": {
     "duration": 0.132109,
     "end_time": "2024-05-08T08:56:00.473777",
     "exception": false,
     "start_time": "2024-05-08T08:56:00.341668",
     "status": "completed"
    },
    "tags": []
   },
   "outputs": [
    {
     "data": {
      "text/plain": [
       "array([27.63, 14.64, 21.8 , 42.39,  1.23,  6.96, 33.87, 41.47,  7.7 ,\n",
       "       29.18, 44.67, 11.25, 10.08,  6.31, 11.77, 48.95, 40.77,  9.43,\n",
       "       41.  , 14.43])"
      ]
     },
     "execution_count": 49,
     "metadata": {},
     "output_type": "execute_result"
    },
    {
     "name": "stdout",
     "output_type": "stream",
     "text": [
      "Positions\n"
     ]
    },
    {
     "data": {
      "text/plain": [
       "array([15, 10,  3,  7, 18])"
      ]
     },
     "execution_count": 49,
     "metadata": {},
     "output_type": "execute_result"
    },
    {
     "name": "stdout",
     "output_type": "stream",
     "text": [
      "Values\n"
     ]
    },
    {
     "data": {
      "text/plain": [
       "array([48.95, 44.67, 42.39, 41.47, 41.  ])"
      ]
     },
     "execution_count": 49,
     "metadata": {},
     "output_type": "execute_result"
    }
   ],
   "source": [
    "# Question: Get the positions of top 5 maximum values in a given array a.\n",
    "np.random.seed(100)\n",
    "a = np.random.uniform(1,50, 20)\n",
    "a\n",
    "sort = a.argsort()\n",
    "print('Positions')\n",
    "sort[-5:][::-1]\n",
    "print('Values')\n",
    "a[sort][-5:][::-1]"
   ]
  },
  {
   "cell_type": "markdown",
   "metadata": {
    "papermill": {
     "duration": 0.113607,
     "end_time": "2024-05-08T08:56:00.700164",
     "exception": false,
     "start_time": "2024-05-08T08:56:00.586557",
     "status": "completed"
    },
    "tags": []
   },
   "source": [
    "<a id='49'></a>\n",
    "### *Exercise 49*. How to compute the row wise counts of all possible values in an array?\n",
    "<a href=\"#top\" class=\"btn btn-primary btn-sm\" role=\"button\" aria-pressed=\"true\" style=\"color:white\" data-toggle=\"popover\">Go to TOC</a>"
   ]
  },
  {
   "cell_type": "code",
   "execution_count": 50,
   "metadata": {
    "execution": {
     "iopub.execute_input": "2024-05-08T08:56:00.933308Z",
     "iopub.status.busy": "2024-05-08T08:56:00.932437Z",
     "iopub.status.idle": "2024-05-08T08:56:00.946245Z",
     "shell.execute_reply": "2024-05-08T08:56:00.946886Z"
    },
    "papermill": {
     "duration": 0.135068,
     "end_time": "2024-05-08T08:56:00.947048",
     "exception": false,
     "start_time": "2024-05-08T08:56:00.811980",
     "status": "completed"
    },
    "tags": []
   },
   "outputs": [
    {
     "data": {
      "text/plain": [
       "array([[ 9,  9,  4, ...,  3,  6,  3],\n",
       "       [ 3,  3,  2, ..., 10,  7,  3],\n",
       "       [ 5,  2,  6, ...,  8,  2,  2],\n",
       "       [ 8,  8,  1, ...,  3,  6,  9],\n",
       "       [ 2,  1,  8, ...,  3,  6,  2],\n",
       "       [ 9,  2,  6, ...,  6,  1, 10]])"
      ]
     },
     "execution_count": 50,
     "metadata": {},
     "output_type": "execute_result"
    },
    {
     "name": "stdout",
     "output_type": "stream",
     "text": [
      "[ 1  2  3  4  5  6  7  8  9 10]\n"
     ]
    },
    {
     "data": {
      "text/plain": [
       "[[1, 0, 2, 1, 1, 1, 0, 2, 2, 0],\n",
       " [2, 1, 3, 0, 1, 0, 1, 0, 1, 1],\n",
       " [0, 3, 0, 2, 3, 1, 0, 1, 0, 0],\n",
       " [1, 0, 2, 1, 0, 1, 0, 2, 1, 2],\n",
       " [2, 2, 2, 0, 0, 1, 1, 1, 1, 0],\n",
       " [1, 1, 1, 1, 1, 2, 0, 0, 2, 1]]"
      ]
     },
     "execution_count": 50,
     "metadata": {},
     "output_type": "execute_result"
    }
   ],
   "source": [
    "# Question: Compute the counts of unique values row-wise.\n",
    "\n",
    "# Solution\n",
    "def counts_of_all_values_rowwise(arr2d):\n",
    "    # Unique values and its counts row wise\n",
    "    num_counts_array = [np.unique(row, return_counts=True) for row in arr2d]\n",
    "\n",
    "    # Counts of all values row wise\n",
    "    return([[int(b[a==i]) if i in a else 0 for i in np.unique(arr2d)] for a, b in num_counts_array])\n",
    "\n",
    "np.random.seed(100)\n",
    "np.set_printoptions(threshold=10)\n",
    "arr = np.random.randint(1,11,size=(6, 10))\n",
    "arr\n",
    "print(np.arange(1,11))\n",
    "counts_of_all_values_rowwise(arr)"
   ]
  },
  {
   "cell_type": "markdown",
   "metadata": {
    "papermill": {
     "duration": 0.113045,
     "end_time": "2024-05-08T08:56:01.173279",
     "exception": false,
     "start_time": "2024-05-08T08:56:01.060234",
     "status": "completed"
    },
    "tags": []
   },
   "source": [
    "<a id='50'></a>\n",
    "### *Exercise 50*. How to convert an array of arrays into a flat 1d array?\n",
    "<a href=\"#top\" class=\"btn btn-primary btn-sm\" role=\"button\" aria-pressed=\"true\" style=\"color:white\" data-toggle=\"popover\">Go to TOC</a>"
   ]
  },
  {
   "cell_type": "code",
   "execution_count": 51,
   "metadata": {
    "execution": {
     "iopub.execute_input": "2024-05-08T08:56:01.405076Z",
     "iopub.status.busy": "2024-05-08T08:56:01.404304Z",
     "iopub.status.idle": "2024-05-08T08:56:01.411179Z",
     "shell.execute_reply": "2024-05-08T08:56:01.411877Z"
    },
    "papermill": {
     "duration": 0.123045,
     "end_time": "2024-05-08T08:56:01.412093",
     "exception": false,
     "start_time": "2024-05-08T08:56:01.289048",
     "status": "completed"
    },
    "tags": []
   },
   "outputs": [
    {
     "name": "stdout",
     "output_type": "stream",
     "text": [
      "[0 1 2 3 4 5 6 7 8 9]\n"
     ]
    }
   ],
   "source": [
    "# Question: Convert array_of_arrays into a flat linear 1d array.\n",
    "arr1 = np.arange(3)\n",
    "arr2 = np.arange(3,7)\n",
    "arr3 = np.arange(7,10)\n",
    "\n",
    "arr_2d = np.concatenate([arr1, arr2, arr3])\n",
    "print(arr_2d)"
   ]
  },
  {
   "cell_type": "markdown",
   "metadata": {
    "papermill": {
     "duration": 0.116723,
     "end_time": "2024-05-08T08:56:01.641756",
     "exception": false,
     "start_time": "2024-05-08T08:56:01.525033",
     "status": "completed"
    },
    "tags": []
   },
   "source": [
    "## I hope you have learned something in this kernel.\n",
    "## <font color='red'> If you like this kernel, Don't forget to upvote. </font>"
   ]
  },
  {
   "cell_type": "markdown",
   "metadata": {
    "papermill": {
     "duration": 0.111659,
     "end_time": "2024-05-08T08:56:01.866351",
     "exception": false,
     "start_time": "2024-05-08T08:56:01.754692",
     "status": "completed"
    },
    "tags": []
   },
   "source": [
    "## Happy Learning"
   ]
  }
 ],
 "metadata": {
  "kaggle": {
   "accelerator": "none",
   "dataSources": [
    {
     "datasetId": 19,
     "sourceId": 420,
     "sourceType": "datasetVersion"
    },
    {
     "datasetId": 228,
     "sourceId": 482,
     "sourceType": "datasetVersion"
    },
    {
     "datasetId": 478,
     "sourceId": 974,
     "sourceType": "datasetVersion"
    },
    {
     "datasetId": 4458,
     "sourceId": 8204,
     "sourceType": "datasetVersion"
    },
    {
     "datasetId": 33180,
     "sourceId": 43520,
     "sourceType": "datasetVersion"
    }
   ],
   "dockerImageVersionId": 29994,
   "isGpuEnabled": false,
   "isInternetEnabled": true,
   "language": "python",
   "sourceType": "notebook"
  },
  "kernelspec": {
   "display_name": "Python 3",
   "language": "python",
   "name": "python3"
  },
  "language_info": {
   "codemirror_mode": {
    "name": "ipython",
    "version": 3
   },
   "file_extension": ".py",
   "mimetype": "text/x-python",
   "name": "python",
   "nbconvert_exporter": "python",
   "pygments_lexer": "ipython3",
   "version": "3.7.6"
  },
  "papermill": {
   "duration": 26.664684,
   "end_time": "2024-05-08T08:56:02.099581",
   "environment_variables": {},
   "exception": null,
   "input_path": "__notebook__.ipynb",
   "output_path": "__notebook__.ipynb",
   "parameters": {},
   "start_time": "2024-05-08T08:55:35.434897",
   "version": "2.1.0"
  }
 },
 "nbformat": 4,
 "nbformat_minor": 4
}
